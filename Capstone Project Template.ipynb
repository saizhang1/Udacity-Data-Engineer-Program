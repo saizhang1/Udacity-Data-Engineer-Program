{
 "cells": [
  {
   "cell_type": "markdown",
   "metadata": {
    "editable": true
   },
   "source": [
    "# Project Title\n",
    "### Data Engineering Capstone Project\n",
    "\n",
    "#### Project Summary\n",
    "--describe your project at a high level--\n",
    "\n",
    "The project follows the follow steps:\n",
    "* Step 1: Scope the Project and Gather Data\n",
    "* Step 2: Explore and Assess the Data\n",
    "* Step 3: Define the Data Model\n",
    "* Step 4: Run ETL to Model the Data\n",
    "* Step 5: Complete Project Write Up"
   ]
  },
  {
   "cell_type": "code",
   "execution_count": 23,
   "metadata": {
    "editable": true
   },
   "outputs": [],
   "source": [
    "# Do all imports and installs here\n",
    "import pandas as pd\n",
    "import os\n",
    "import glob\n",
    "from datetime import datetime\n",
    "import datetime as dt\n",
    "\n",
    "import configparser\n",
    "from pyspark.sql import SparkSession\n",
    "from pyspark.sql.functions import udf,col,avg,asc,desc,lit\n",
    "from pyspark.sql.functions import year, month, dayofmonth, hour, weekofyear, date_format,to_timestamp,unix_timestamp\n",
    "from pyspark.sql import functions as F\n",
    "from pyspark.sql import SQLContext\n",
    "from pyspark.sql.functions import isnan, when, count, col, udf, dayofmonth, dayofweek, month, year, weekofyear\n",
    "from pyspark.sql.functions import monotonically_increasing_id\n",
    "from pyspark.sql.types import *\n",
    "from pyspark.sql.window import Window"
   ]
  },
  {
   "cell_type": "markdown",
   "metadata": {
    "editable": true
   },
   "source": [
    "### Step 1: Scope the Project and Gather Data\n",
    "\n",
    "#### Scope \n",
    "Explain what you plan to do in the project in more detail. What data do you use? What is your end solution look like? What tools did you use? etc>\n",
    "\n",
    "#### Describe and Gather Data \n",
    "Describe the data sets you're using. Where did it come from? What type of information is included? "
   ]
  },
  {
   "cell_type": "markdown",
   "metadata": {
    "editable": true
   },
   "source": [
    "### Preparing AWS redshift account and password"
   ]
  },
  {
   "cell_type": "code",
   "execution_count": 2,
   "metadata": {
    "editable": true
   },
   "outputs": [
    {
     "data": {
      "text/plain": [
       "['dl.cfg']"
      ]
     },
     "execution_count": 2,
     "metadata": {},
     "output_type": "execute_result"
    }
   ],
   "source": [
    "config = configparser.ConfigParser()\n",
    "config.read('dl.cfg')\n",
    "\n",
    "#os.environ['AWS_ACCESS_KEY_ID']=config['AWS_ACCESS_KEY_ID']\n",
    "#os.environ['AWS_SECRET_ACCESS_KEY']=config['AWS_SECRET_ACCESS_KEY']"
   ]
  },
  {
   "cell_type": "code",
   "execution_count": 2,
   "metadata": {
    "editable": true
   },
   "outputs": [],
   "source": [
    "spark = SparkSession.builder.\\\n",
    "config(\"spark.jars.packages\",\"saurfang:spark-sas7bdat:2.0.0-s_2.11\")\\\n",
    ".enableHiveSupport().getOrCreate()"
   ]
  },
  {
   "cell_type": "markdown",
   "metadata": {
    "editable": true
   },
   "source": [
    "## US 2016 immigration data\n",
    "\n",
    "This data is in .sas format and is already stored in the local."
   ]
  },
  {
   "cell_type": "code",
   "execution_count": 3,
   "metadata": {
    "editable": true
   },
   "outputs": [],
   "source": [
    "df_spark =spark.read.format('com.github.saurfang.sas.spark').load('/data/18-83510-I94-Data-2016/i94_apr16_sub.sas7bdat')"
   ]
  },
  {
   "cell_type": "code",
   "execution_count": null,
   "metadata": {
    "editable": true
   },
   "outputs": [],
   "source": [
    "#df_spark.write.parquet(\"sas_data\")\n",
    "#df_spark=spark.read.parquet(\"sas_data\")"
   ]
  },
  {
   "cell_type": "code",
   "execution_count": 4,
   "metadata": {
    "editable": true
   },
   "outputs": [
    {
     "name": "stdout",
     "output_type": "stream",
     "text": [
      "root\n",
      " |-- cicid: double (nullable = true)\n",
      " |-- i94yr: double (nullable = true)\n",
      " |-- i94mon: double (nullable = true)\n",
      " |-- i94cit: double (nullable = true)\n",
      " |-- i94res: double (nullable = true)\n",
      " |-- i94port: string (nullable = true)\n",
      " |-- arrdate: double (nullable = true)\n",
      " |-- i94mode: double (nullable = true)\n",
      " |-- i94addr: string (nullable = true)\n",
      " |-- depdate: double (nullable = true)\n",
      " |-- i94bir: double (nullable = true)\n",
      " |-- i94visa: double (nullable = true)\n",
      " |-- count: double (nullable = true)\n",
      " |-- dtadfile: string (nullable = true)\n",
      " |-- visapost: string (nullable = true)\n",
      " |-- occup: string (nullable = true)\n",
      " |-- entdepa: string (nullable = true)\n",
      " |-- entdepd: string (nullable = true)\n",
      " |-- entdepu: string (nullable = true)\n",
      " |-- matflag: string (nullable = true)\n",
      " |-- biryear: double (nullable = true)\n",
      " |-- dtaddto: string (nullable = true)\n",
      " |-- gender: string (nullable = true)\n",
      " |-- insnum: string (nullable = true)\n",
      " |-- airline: string (nullable = true)\n",
      " |-- admnum: double (nullable = true)\n",
      " |-- fltno: string (nullable = true)\n",
      " |-- visatype: string (nullable = true)\n",
      "\n"
     ]
    },
    {
     "data": {
      "text/html": [
       "<div>\n",
       "<style scoped>\n",
       "    .dataframe tbody tr th:only-of-type {\n",
       "        vertical-align: middle;\n",
       "    }\n",
       "\n",
       "    .dataframe tbody tr th {\n",
       "        vertical-align: top;\n",
       "    }\n",
       "\n",
       "    .dataframe thead th {\n",
       "        text-align: right;\n",
       "    }\n",
       "</style>\n",
       "<table border=\"1\" class=\"dataframe\">\n",
       "  <thead>\n",
       "    <tr style=\"text-align: right;\">\n",
       "      <th></th>\n",
       "      <th>cicid</th>\n",
       "      <th>i94yr</th>\n",
       "      <th>i94mon</th>\n",
       "      <th>i94cit</th>\n",
       "      <th>i94res</th>\n",
       "      <th>i94port</th>\n",
       "      <th>arrdate</th>\n",
       "      <th>i94mode</th>\n",
       "      <th>i94addr</th>\n",
       "      <th>depdate</th>\n",
       "      <th>...</th>\n",
       "      <th>entdepu</th>\n",
       "      <th>matflag</th>\n",
       "      <th>biryear</th>\n",
       "      <th>dtaddto</th>\n",
       "      <th>gender</th>\n",
       "      <th>insnum</th>\n",
       "      <th>airline</th>\n",
       "      <th>admnum</th>\n",
       "      <th>fltno</th>\n",
       "      <th>visatype</th>\n",
       "    </tr>\n",
       "  </thead>\n",
       "  <tbody>\n",
       "    <tr>\n",
       "      <th>0</th>\n",
       "      <td>6.0</td>\n",
       "      <td>2016.0</td>\n",
       "      <td>4.0</td>\n",
       "      <td>692.0</td>\n",
       "      <td>692.0</td>\n",
       "      <td>XXX</td>\n",
       "      <td>20573.0</td>\n",
       "      <td>NaN</td>\n",
       "      <td>None</td>\n",
       "      <td>NaN</td>\n",
       "      <td>...</td>\n",
       "      <td>U</td>\n",
       "      <td>None</td>\n",
       "      <td>1979.0</td>\n",
       "      <td>10282016</td>\n",
       "      <td>None</td>\n",
       "      <td>None</td>\n",
       "      <td>None</td>\n",
       "      <td>1.897628e+09</td>\n",
       "      <td>None</td>\n",
       "      <td>B2</td>\n",
       "    </tr>\n",
       "    <tr>\n",
       "      <th>1</th>\n",
       "      <td>7.0</td>\n",
       "      <td>2016.0</td>\n",
       "      <td>4.0</td>\n",
       "      <td>254.0</td>\n",
       "      <td>276.0</td>\n",
       "      <td>ATL</td>\n",
       "      <td>20551.0</td>\n",
       "      <td>1.0</td>\n",
       "      <td>AL</td>\n",
       "      <td>NaN</td>\n",
       "      <td>...</td>\n",
       "      <td>Y</td>\n",
       "      <td>None</td>\n",
       "      <td>1991.0</td>\n",
       "      <td>D/S</td>\n",
       "      <td>M</td>\n",
       "      <td>None</td>\n",
       "      <td>None</td>\n",
       "      <td>3.736796e+09</td>\n",
       "      <td>00296</td>\n",
       "      <td>F1</td>\n",
       "    </tr>\n",
       "    <tr>\n",
       "      <th>2</th>\n",
       "      <td>15.0</td>\n",
       "      <td>2016.0</td>\n",
       "      <td>4.0</td>\n",
       "      <td>101.0</td>\n",
       "      <td>101.0</td>\n",
       "      <td>WAS</td>\n",
       "      <td>20545.0</td>\n",
       "      <td>1.0</td>\n",
       "      <td>MI</td>\n",
       "      <td>20691.0</td>\n",
       "      <td>...</td>\n",
       "      <td>None</td>\n",
       "      <td>M</td>\n",
       "      <td>1961.0</td>\n",
       "      <td>09302016</td>\n",
       "      <td>M</td>\n",
       "      <td>None</td>\n",
       "      <td>OS</td>\n",
       "      <td>6.666432e+08</td>\n",
       "      <td>93</td>\n",
       "      <td>B2</td>\n",
       "    </tr>\n",
       "    <tr>\n",
       "      <th>3</th>\n",
       "      <td>16.0</td>\n",
       "      <td>2016.0</td>\n",
       "      <td>4.0</td>\n",
       "      <td>101.0</td>\n",
       "      <td>101.0</td>\n",
       "      <td>NYC</td>\n",
       "      <td>20545.0</td>\n",
       "      <td>1.0</td>\n",
       "      <td>MA</td>\n",
       "      <td>20567.0</td>\n",
       "      <td>...</td>\n",
       "      <td>None</td>\n",
       "      <td>M</td>\n",
       "      <td>1988.0</td>\n",
       "      <td>09302016</td>\n",
       "      <td>None</td>\n",
       "      <td>None</td>\n",
       "      <td>AA</td>\n",
       "      <td>9.246846e+10</td>\n",
       "      <td>00199</td>\n",
       "      <td>B2</td>\n",
       "    </tr>\n",
       "    <tr>\n",
       "      <th>4</th>\n",
       "      <td>17.0</td>\n",
       "      <td>2016.0</td>\n",
       "      <td>4.0</td>\n",
       "      <td>101.0</td>\n",
       "      <td>101.0</td>\n",
       "      <td>NYC</td>\n",
       "      <td>20545.0</td>\n",
       "      <td>1.0</td>\n",
       "      <td>MA</td>\n",
       "      <td>20567.0</td>\n",
       "      <td>...</td>\n",
       "      <td>None</td>\n",
       "      <td>M</td>\n",
       "      <td>2012.0</td>\n",
       "      <td>09302016</td>\n",
       "      <td>None</td>\n",
       "      <td>None</td>\n",
       "      <td>AA</td>\n",
       "      <td>9.246846e+10</td>\n",
       "      <td>00199</td>\n",
       "      <td>B2</td>\n",
       "    </tr>\n",
       "  </tbody>\n",
       "</table>\n",
       "<p>5 rows × 28 columns</p>\n",
       "</div>"
      ],
      "text/plain": [
       "   cicid   i94yr  i94mon  i94cit  i94res i94port  arrdate  i94mode i94addr  \\\n",
       "0    6.0  2016.0     4.0   692.0   692.0     XXX  20573.0      NaN    None   \n",
       "1    7.0  2016.0     4.0   254.0   276.0     ATL  20551.0      1.0      AL   \n",
       "2   15.0  2016.0     4.0   101.0   101.0     WAS  20545.0      1.0      MI   \n",
       "3   16.0  2016.0     4.0   101.0   101.0     NYC  20545.0      1.0      MA   \n",
       "4   17.0  2016.0     4.0   101.0   101.0     NYC  20545.0      1.0      MA   \n",
       "\n",
       "   depdate   ...     entdepu  matflag  biryear   dtaddto gender insnum  \\\n",
       "0      NaN   ...           U     None   1979.0  10282016   None   None   \n",
       "1      NaN   ...           Y     None   1991.0       D/S      M   None   \n",
       "2  20691.0   ...        None        M   1961.0  09302016      M   None   \n",
       "3  20567.0   ...        None        M   1988.0  09302016   None   None   \n",
       "4  20567.0   ...        None        M   2012.0  09302016   None   None   \n",
       "\n",
       "  airline        admnum  fltno visatype  \n",
       "0    None  1.897628e+09   None       B2  \n",
       "1    None  3.736796e+09  00296       F1  \n",
       "2      OS  6.666432e+08     93       B2  \n",
       "3      AA  9.246846e+10  00199       B2  \n",
       "4      AA  9.246846e+10  00199       B2  \n",
       "\n",
       "[5 rows x 28 columns]"
      ]
     },
     "execution_count": 4,
     "metadata": {},
     "output_type": "execute_result"
    }
   ],
   "source": [
    "df_spark.printSchema()\n",
    "df_spark.limit(5).toPandas()"
   ]
  },
  {
   "cell_type": "code",
   "execution_count": 111,
   "metadata": {
    "editable": true
   },
   "outputs": [
    {
     "data": {
      "text/plain": [
       "3096313"
      ]
     },
     "execution_count": 111,
     "metadata": {},
     "output_type": "execute_result"
    }
   ],
   "source": [
    "df_spark.count()"
   ]
  },
  {
   "cell_type": "markdown",
   "metadata": {
    "editable": true
   },
   "source": [
    "Data explanation\n",
    "\n",
    "- cicid: Unique id of each entry\n",
    "- i94yr: 4 digit year\n",
    "- i94mon: Numeric month\n",
    "- i94cit: 3 digit code of immigrant origin country\n",
    "- i94res: 3 digit code for immigrant country of residence\n",
    "- i94port: Port of admission\n",
    "- arrdate: Arrival Date in the USA\n",
    "- i94mode: Mode of transportation (1 = Air; 2 = Sea; 3 = Land; 9 = Not reported)\n",
    "- i94addr: USA State of arrival\n",
    "- depdate: Departure Date from the USA\n",
    "- i94bir: Age of Respondent in Years\n",
    "- i94visa: Visa codes collapsed into three categories\n",
    "- count: Field used for summary statistics\n",
    "- dtadfile: Character Date Field - Date added to I-94 Files\n",
    "- visapost: Department of State where where Visa was issued\n",
    "- occup: Occupation that will be performed in U.S\n",
    "- entdepa: Arrival Flag - admitted or paroled into the U.S.\n",
    "- entdepd: Departure Flag - Departed, lost I-94 or is deceased\n",
    "- entdepu: Update Flag - Either apprehended, overstayed, adjusted to perm residence\n",
    "- matflag: Match flag - Match of arrival and departure records\n",
    "- biryear: 4 digit year of birth\n",
    "- dtaddto: Character Date Field - Date to which admitted to U.S. (allowed to stay until)\n",
    "- gender: Non-immigrant sex\n",
    "- insnum: INS number\n",
    "- airline: Airline used to arrive in U.S.\n",
    "- admnum: Admission Number\n",
    "- fltno: Flight number of Airline used to arrive in U.S.\n",
    "- visatype: Class of admission legally admitting the non-immigrant to temporarily stay in U.S."
   ]
  },
  {
   "cell_type": "markdown",
   "metadata": {
    "editable": true
   },
   "source": [
    "## Tweets US airline Sentiment data\n",
    "\n",
    "As the original source says,\n",
    "\n",
    "A sentiment analysis job about the problems of each major U.S. airline. Twitter data was scraped from February of 2015 and contributors were asked to first classify positive, negative, and neutral tweets, followed by categorizing negative reasons (such as \"late flight\" or \"rude service\").\n",
    "\n",
    "It contains whether the sentiment of the tweets in this set was positive, neutral, or negative for six US airlines.\n"
   ]
  },
  {
   "cell_type": "code",
   "execution_count": 4,
   "metadata": {
    "editable": true
   },
   "outputs": [
    {
     "data": {
      "text/html": [
       "<div>\n",
       "<style scoped>\n",
       "    .dataframe tbody tr th:only-of-type {\n",
       "        vertical-align: middle;\n",
       "    }\n",
       "\n",
       "    .dataframe tbody tr th {\n",
       "        vertical-align: top;\n",
       "    }\n",
       "\n",
       "    .dataframe thead th {\n",
       "        text-align: right;\n",
       "    }\n",
       "</style>\n",
       "<table border=\"1\" class=\"dataframe\">\n",
       "  <thead>\n",
       "    <tr style=\"text-align: right;\">\n",
       "      <th></th>\n",
       "      <th>tweet_id</th>\n",
       "      <th>airline_sentiment</th>\n",
       "      <th>airline_sentiment_confidence</th>\n",
       "      <th>negativereason</th>\n",
       "      <th>negativereason_confidence</th>\n",
       "      <th>airline</th>\n",
       "      <th>airline_sentiment_gold</th>\n",
       "      <th>name</th>\n",
       "      <th>negativereason_gold</th>\n",
       "      <th>retweet_count</th>\n",
       "      <th>text</th>\n",
       "      <th>tweet_coord</th>\n",
       "      <th>tweet_created</th>\n",
       "      <th>tweet_location</th>\n",
       "      <th>user_timezone</th>\n",
       "    </tr>\n",
       "  </thead>\n",
       "  <tbody>\n",
       "    <tr>\n",
       "      <th>0</th>\n",
       "      <td>570306133677760513</td>\n",
       "      <td>neutral</td>\n",
       "      <td>1.0</td>\n",
       "      <td>None</td>\n",
       "      <td>None</td>\n",
       "      <td>Virgin America</td>\n",
       "      <td>None</td>\n",
       "      <td>cairdin</td>\n",
       "      <td>None</td>\n",
       "      <td>0</td>\n",
       "      <td>@VirginAmerica What @dhepburn said.</td>\n",
       "      <td>None</td>\n",
       "      <td>2015-02-24 11:35:52 -0800</td>\n",
       "      <td>None</td>\n",
       "      <td>Eastern Time (US &amp; Canada)</td>\n",
       "    </tr>\n",
       "    <tr>\n",
       "      <th>1</th>\n",
       "      <td>570301130888122368</td>\n",
       "      <td>positive</td>\n",
       "      <td>0.3486</td>\n",
       "      <td>None</td>\n",
       "      <td>0.0</td>\n",
       "      <td>Virgin America</td>\n",
       "      <td>None</td>\n",
       "      <td>jnardino</td>\n",
       "      <td>None</td>\n",
       "      <td>0</td>\n",
       "      <td>@VirginAmerica plus you've added commercials t...</td>\n",
       "      <td>None</td>\n",
       "      <td>2015-02-24 11:15:59 -0800</td>\n",
       "      <td>None</td>\n",
       "      <td>Pacific Time (US &amp; Canada)</td>\n",
       "    </tr>\n",
       "    <tr>\n",
       "      <th>2</th>\n",
       "      <td>570301083672813571</td>\n",
       "      <td>neutral</td>\n",
       "      <td>0.6837</td>\n",
       "      <td>None</td>\n",
       "      <td>None</td>\n",
       "      <td>Virgin America</td>\n",
       "      <td>None</td>\n",
       "      <td>yvonnalynn</td>\n",
       "      <td>None</td>\n",
       "      <td>0</td>\n",
       "      <td>@VirginAmerica I didn't today... Must mean I n...</td>\n",
       "      <td>None</td>\n",
       "      <td>2015-02-24 11:15:48 -0800</td>\n",
       "      <td>Lets Play</td>\n",
       "      <td>Central Time (US &amp; Canada)</td>\n",
       "    </tr>\n",
       "    <tr>\n",
       "      <th>3</th>\n",
       "      <td>570301031407624196</td>\n",
       "      <td>negative</td>\n",
       "      <td>1.0</td>\n",
       "      <td>Bad Flight</td>\n",
       "      <td>0.7033</td>\n",
       "      <td>Virgin America</td>\n",
       "      <td>None</td>\n",
       "      <td>jnardino</td>\n",
       "      <td>None</td>\n",
       "      <td>0</td>\n",
       "      <td>\"@VirginAmerica it's really aggressive to blas...</td>\n",
       "      <td>None</td>\n",
       "      <td>2015-02-24 11:15:36 -0800</td>\n",
       "      <td>None</td>\n",
       "      <td>Pacific Time (US &amp; Canada)</td>\n",
       "    </tr>\n",
       "    <tr>\n",
       "      <th>4</th>\n",
       "      <td>570300817074462722</td>\n",
       "      <td>negative</td>\n",
       "      <td>1.0</td>\n",
       "      <td>Can't Tell</td>\n",
       "      <td>1.0</td>\n",
       "      <td>Virgin America</td>\n",
       "      <td>None</td>\n",
       "      <td>jnardino</td>\n",
       "      <td>None</td>\n",
       "      <td>0</td>\n",
       "      <td>@VirginAmerica and it's a really big bad thing...</td>\n",
       "      <td>None</td>\n",
       "      <td>2015-02-24 11:14:45 -0800</td>\n",
       "      <td>None</td>\n",
       "      <td>Pacific Time (US &amp; Canada)</td>\n",
       "    </tr>\n",
       "  </tbody>\n",
       "</table>\n",
       "</div>"
      ],
      "text/plain": [
       "             tweet_id airline_sentiment airline_sentiment_confidence  \\\n",
       "0  570306133677760513           neutral                          1.0   \n",
       "1  570301130888122368          positive                       0.3486   \n",
       "2  570301083672813571           neutral                       0.6837   \n",
       "3  570301031407624196          negative                          1.0   \n",
       "4  570300817074462722          negative                          1.0   \n",
       "\n",
       "  negativereason negativereason_confidence         airline  \\\n",
       "0           None                      None  Virgin America   \n",
       "1           None                       0.0  Virgin America   \n",
       "2           None                      None  Virgin America   \n",
       "3     Bad Flight                    0.7033  Virgin America   \n",
       "4     Can't Tell                       1.0  Virgin America   \n",
       "\n",
       "  airline_sentiment_gold        name negativereason_gold  retweet_count  \\\n",
       "0                   None     cairdin                None              0   \n",
       "1                   None    jnardino                None              0   \n",
       "2                   None  yvonnalynn                None              0   \n",
       "3                   None    jnardino                None              0   \n",
       "4                   None    jnardino                None              0   \n",
       "\n",
       "                                                text tweet_coord  \\\n",
       "0                @VirginAmerica What @dhepburn said.        None   \n",
       "1  @VirginAmerica plus you've added commercials t...        None   \n",
       "2  @VirginAmerica I didn't today... Must mean I n...        None   \n",
       "3  \"@VirginAmerica it's really aggressive to blas...        None   \n",
       "4  @VirginAmerica and it's a really big bad thing...        None   \n",
       "\n",
       "               tweet_created tweet_location               user_timezone  \n",
       "0  2015-02-24 11:35:52 -0800           None  Eastern Time (US & Canada)  \n",
       "1  2015-02-24 11:15:59 -0800           None  Pacific Time (US & Canada)  \n",
       "2  2015-02-24 11:15:48 -0800      Lets Play  Central Time (US & Canada)  \n",
       "3  2015-02-24 11:15:36 -0800           None  Pacific Time (US & Canada)  \n",
       "4  2015-02-24 11:14:45 -0800           None  Pacific Time (US & Canada)  "
      ]
     },
     "execution_count": 4,
     "metadata": {},
     "output_type": "execute_result"
    }
   ],
   "source": [
    "tweet = spark.read.csv('Tweets.csv', header=True, inferSchema=True)\n",
    "tweet.limit(5).toPandas()"
   ]
  },
  {
   "cell_type": "code",
   "execution_count": 6,
   "metadata": {
    "editable": true
   },
   "outputs": [
    {
     "name": "stdout",
     "output_type": "stream",
     "text": [
      "+----------------------+-----+\n",
      "|airline_sentiment_gold|count|\n",
      "+----------------------+-----+\n",
      "|              positive|    5|\n",
      "|        Rossford, Ohio|    1|\n",
      "|  Central Time (US ...|    2|\n",
      "|                  null|14788|\n",
      "|  Atlantic Time (Ca...|    2|\n",
      "|                London|    1|\n",
      "|               neutral|    3|\n",
      "|              negative|   32|\n",
      "|  Eastern Time (US ...|    3|\n",
      "+----------------------+-----+\n",
      "\n"
     ]
    }
   ],
   "source": [
    "tweet.groupby('airline_sentiment_gold').count().show()\n",
    "#df.groupBy($\"value\").count.orderBy($\"count\".desc)"
   ]
  },
  {
   "cell_type": "markdown",
   "metadata": {
    "editable": true
   },
   "source": [
    "### Data Explanation\n",
    "\n",
    "- tweet_id: tweet identifier\n",
    "- airline_sentiment: sentiment toward one airline (negative, positive and neutral)\n",
    "- airline_sentiment_confidence: the probability of predicting the sentiment of the tweet.\n",
    "- negativereason: reason to give when the comment is negative\n",
    "- negativereason_confidence: the probability of predicting the reason of the negative sentiment\n",
    "- airline: airline name \n",
    "- airline_sentiment_gold\n",
    "- name: name of user\n",
    "- negativereason_gold\n",
    "- retweet_count: the number the tweet has been retweeted\n",
    "- text: text content of the comment\n",
    "- tweet_coord: geographic coordination where the tweets were posted\n",
    "- tweet_created: date the tweet has been created\n",
    "- tweet_location: location where the tweets have been posted\n",
    "- user_timezone: user timezone"
   ]
  },
  {
   "cell_type": "markdown",
   "metadata": {
    "editable": true
   },
   "source": [
    "## Airlines Code data\n",
    "\n",
    "The aireline list and its relevant IATA and ICAO code. This data is use to join the tweets data, so we can know the acronym of the airline."
   ]
  },
  {
   "cell_type": "code",
   "execution_count": 5,
   "metadata": {
    "editable": true
   },
   "outputs": [
    {
     "name": "stdout",
     "output_type": "stream",
     "text": [
      "root\n",
      " |-- -1: integer (nullable = true)\n",
      " |-- Unknown: string (nullable = true)\n",
      " |-- \\N2: string (nullable = true)\n",
      " |-- -: string (nullable = true)\n",
      " |-- N/A: string (nullable = true)\n",
      " |-- \\N5: string (nullable = true)\n",
      " |-- \\N6: string (nullable = true)\n",
      " |-- Y: string (nullable = true)\n",
      "\n"
     ]
    }
   ],
   "source": [
    "\n",
    "#airlines = pd.read_csv('airlines.dat', sep=',')\n",
    "#airlines.columns =['index', 'airline', 'none', 'IATA','ICAO','unknown','COUNTRY','NONE2']\n",
    "#airlines.head()\n",
    "airlines = spark.read.csv('airlines.dat', header=True, inferSchema=True)\n",
    "airlines.printSchema()"
   ]
  },
  {
   "cell_type": "code",
   "execution_count": 6,
   "metadata": {
    "editable": true
   },
   "outputs": [
    {
     "name": "stdout",
     "output_type": "stream",
     "text": [
      "+--------------------+----+----+\n",
      "|             airline|IATA|ICAO|\n",
      "+--------------------+----+----+\n",
      "|      Private flight|   -| N/A|\n",
      "|         135 Airways|null| GNL|\n",
      "|       1Time Airline|  1T| RNX|\n",
      "|2 Sqn No 1 Elemen...|null| WYT|\n",
      "|     213 Flight Unit|null| TFU|\n",
      "+--------------------+----+----+\n",
      "only showing top 5 rows\n",
      "\n"
     ]
    }
   ],
   "source": [
    "#airlines.columns =['index', 'airline', 'none', 'IATA','ICAO','unknown','COUNTRY','NONE2']\n",
    "airlines = airlines.withColumnRenamed(\"-1\",\"index\").withColumnRenamed(\"Unknown\",\"airline\").withColumnRenamed(\"N2\",\"none\").withColumnRenamed(\"-\",\"IATA\").withColumnRenamed(\"N/A\",\"ICAO\").withColumnRenamed(\"N5\",\"UNKNOWN\").withColumnRenamed(\"N6\",\"COUNTRY\").withColumnRenamed(\"Y\",\"NONE2\")\n",
    "airlines = airlines.select('airline','IATA','ICAO')\n",
    "airlines.show(5)"
   ]
  },
  {
   "cell_type": "code",
   "execution_count": 96,
   "metadata": {
    "editable": true
   },
   "outputs": [
    {
     "data": {
      "text/html": [
       "<div>\n",
       "<style scoped>\n",
       "    .dataframe tbody tr th:only-of-type {\n",
       "        vertical-align: middle;\n",
       "    }\n",
       "\n",
       "    .dataframe tbody tr th {\n",
       "        vertical-align: top;\n",
       "    }\n",
       "\n",
       "    .dataframe thead th {\n",
       "        text-align: right;\n",
       "    }\n",
       "</style>\n",
       "<table border=\"1\" class=\"dataframe\">\n",
       "  <thead>\n",
       "    <tr style=\"text-align: right;\">\n",
       "      <th></th>\n",
       "      <th>airline</th>\n",
       "      <th>tweet_id</th>\n",
       "      <th>airline_sentiment</th>\n",
       "      <th>airline_sentiment_confidence</th>\n",
       "      <th>negativereason</th>\n",
       "      <th>negativereason_confidence</th>\n",
       "      <th>airline_sentiment_gold</th>\n",
       "      <th>name</th>\n",
       "      <th>negativereason_gold</th>\n",
       "      <th>retweet_count</th>\n",
       "      <th>text</th>\n",
       "      <th>tweet_coord</th>\n",
       "      <th>tweet_created</th>\n",
       "      <th>tweet_location</th>\n",
       "      <th>user_timezone</th>\n",
       "      <th>IATA</th>\n",
       "      <th>ICAO</th>\n",
       "    </tr>\n",
       "  </thead>\n",
       "  <tbody>\n",
       "    <tr>\n",
       "      <th>0</th>\n",
       "      <td>Virgin America</td>\n",
       "      <td>570306133677760513</td>\n",
       "      <td>neutral</td>\n",
       "      <td>1.0</td>\n",
       "      <td>None</td>\n",
       "      <td>None</td>\n",
       "      <td>None</td>\n",
       "      <td>cairdin</td>\n",
       "      <td>None</td>\n",
       "      <td>0</td>\n",
       "      <td>@VirginAmerica What @dhepburn said.</td>\n",
       "      <td>None</td>\n",
       "      <td>2015-02-24 11:35:52 -0800</td>\n",
       "      <td>None</td>\n",
       "      <td>Eastern Time (US &amp; Canada)</td>\n",
       "      <td>VX</td>\n",
       "      <td>VRD</td>\n",
       "    </tr>\n",
       "    <tr>\n",
       "      <th>1</th>\n",
       "      <td>Virgin America</td>\n",
       "      <td>570301130888122368</td>\n",
       "      <td>positive</td>\n",
       "      <td>0.3486</td>\n",
       "      <td>None</td>\n",
       "      <td>0.0</td>\n",
       "      <td>None</td>\n",
       "      <td>jnardino</td>\n",
       "      <td>None</td>\n",
       "      <td>0</td>\n",
       "      <td>@VirginAmerica plus you've added commercials t...</td>\n",
       "      <td>None</td>\n",
       "      <td>2015-02-24 11:15:59 -0800</td>\n",
       "      <td>None</td>\n",
       "      <td>Pacific Time (US &amp; Canada)</td>\n",
       "      <td>VX</td>\n",
       "      <td>VRD</td>\n",
       "    </tr>\n",
       "    <tr>\n",
       "      <th>2</th>\n",
       "      <td>Virgin America</td>\n",
       "      <td>570301083672813571</td>\n",
       "      <td>neutral</td>\n",
       "      <td>0.6837</td>\n",
       "      <td>None</td>\n",
       "      <td>None</td>\n",
       "      <td>None</td>\n",
       "      <td>yvonnalynn</td>\n",
       "      <td>None</td>\n",
       "      <td>0</td>\n",
       "      <td>@VirginAmerica I didn't today... Must mean I n...</td>\n",
       "      <td>None</td>\n",
       "      <td>2015-02-24 11:15:48 -0800</td>\n",
       "      <td>Lets Play</td>\n",
       "      <td>Central Time (US &amp; Canada)</td>\n",
       "      <td>VX</td>\n",
       "      <td>VRD</td>\n",
       "    </tr>\n",
       "    <tr>\n",
       "      <th>3</th>\n",
       "      <td>Virgin America</td>\n",
       "      <td>570301031407624196</td>\n",
       "      <td>negative</td>\n",
       "      <td>1.0</td>\n",
       "      <td>Bad Flight</td>\n",
       "      <td>0.7033</td>\n",
       "      <td>None</td>\n",
       "      <td>jnardino</td>\n",
       "      <td>None</td>\n",
       "      <td>0</td>\n",
       "      <td>\"@VirginAmerica it's really aggressive to blas...</td>\n",
       "      <td>None</td>\n",
       "      <td>2015-02-24 11:15:36 -0800</td>\n",
       "      <td>None</td>\n",
       "      <td>Pacific Time (US &amp; Canada)</td>\n",
       "      <td>VX</td>\n",
       "      <td>VRD</td>\n",
       "    </tr>\n",
       "    <tr>\n",
       "      <th>4</th>\n",
       "      <td>Virgin America</td>\n",
       "      <td>570300817074462722</td>\n",
       "      <td>negative</td>\n",
       "      <td>1.0</td>\n",
       "      <td>Can't Tell</td>\n",
       "      <td>1.0</td>\n",
       "      <td>None</td>\n",
       "      <td>jnardino</td>\n",
       "      <td>None</td>\n",
       "      <td>0</td>\n",
       "      <td>@VirginAmerica and it's a really big bad thing...</td>\n",
       "      <td>None</td>\n",
       "      <td>2015-02-24 11:14:45 -0800</td>\n",
       "      <td>None</td>\n",
       "      <td>Pacific Time (US &amp; Canada)</td>\n",
       "      <td>VX</td>\n",
       "      <td>VRD</td>\n",
       "    </tr>\n",
       "  </tbody>\n",
       "</table>\n",
       "</div>"
      ],
      "text/plain": [
       "          airline            tweet_id airline_sentiment  \\\n",
       "0  Virgin America  570306133677760513           neutral   \n",
       "1  Virgin America  570301130888122368          positive   \n",
       "2  Virgin America  570301083672813571           neutral   \n",
       "3  Virgin America  570301031407624196          negative   \n",
       "4  Virgin America  570300817074462722          negative   \n",
       "\n",
       "  airline_sentiment_confidence negativereason negativereason_confidence  \\\n",
       "0                          1.0           None                      None   \n",
       "1                       0.3486           None                       0.0   \n",
       "2                       0.6837           None                      None   \n",
       "3                          1.0     Bad Flight                    0.7033   \n",
       "4                          1.0     Can't Tell                       1.0   \n",
       "\n",
       "  airline_sentiment_gold        name negativereason_gold  retweet_count  \\\n",
       "0                   None     cairdin                None              0   \n",
       "1                   None    jnardino                None              0   \n",
       "2                   None  yvonnalynn                None              0   \n",
       "3                   None    jnardino                None              0   \n",
       "4                   None    jnardino                None              0   \n",
       "\n",
       "                                                text tweet_coord  \\\n",
       "0                @VirginAmerica What @dhepburn said.        None   \n",
       "1  @VirginAmerica plus you've added commercials t...        None   \n",
       "2  @VirginAmerica I didn't today... Must mean I n...        None   \n",
       "3  \"@VirginAmerica it's really aggressive to blas...        None   \n",
       "4  @VirginAmerica and it's a really big bad thing...        None   \n",
       "\n",
       "               tweet_created tweet_location               user_timezone IATA  \\\n",
       "0  2015-02-24 11:35:52 -0800           None  Eastern Time (US & Canada)   VX   \n",
       "1  2015-02-24 11:15:59 -0800           None  Pacific Time (US & Canada)   VX   \n",
       "2  2015-02-24 11:15:48 -0800      Lets Play  Central Time (US & Canada)   VX   \n",
       "3  2015-02-24 11:15:36 -0800           None  Pacific Time (US & Canada)   VX   \n",
       "4  2015-02-24 11:14:45 -0800           None  Pacific Time (US & Canada)   VX   \n",
       "\n",
       "  ICAO  \n",
       "0  VRD  \n",
       "1  VRD  \n",
       "2  VRD  \n",
       "3  VRD  \n",
       "4  VRD  "
      ]
     },
     "execution_count": 96,
     "metadata": {},
     "output_type": "execute_result"
    }
   ],
   "source": [
    "tweet_airline = tweet.join(airlines, on='airline', how='left')\n",
    "tweet_airline.limit(5).toPandas()"
   ]
  },
  {
   "cell_type": "markdown",
   "metadata": {
    "editable": true
   },
   "source": [
    "## Border Entry Data\n",
    "This data comes from Kaggle.\n",
    "\n",
    "The Bureau of Transportation Statistics (BTS) Border Crossing Data provide summary statistics for inbound crossings at the U.S.-Canada and the U.S.-Mexico border at the port level. Data are available for trucks, trains, containers, buses, personal vehicles, passengers, and pedestrians. Border crossing data are collected at ports of entry by U.S. Customs and Border Protection (CBP). The data reflect the number of vehicles, containers, passengers or pedestrians entering the United States. CBP does not collect comparable data on outbound crossings. Users seeking data on outbound counts may therefore want to review data from individual bridge operators, border state governments, or the Mexican and Canadian governments.\n",
    "\n",
    "COVERAGE: Incoming vehicle, container, passenger, and pedestrian counts at U.S.-Mexico and U.S.-Canada land border ports."
   ]
  },
  {
   "cell_type": "code",
   "execution_count": 8,
   "metadata": {
    "editable": true
   },
   "outputs": [
    {
     "data": {
      "text/html": [
       "<div>\n",
       "<style scoped>\n",
       "    .dataframe tbody tr th:only-of-type {\n",
       "        vertical-align: middle;\n",
       "    }\n",
       "\n",
       "    .dataframe tbody tr th {\n",
       "        vertical-align: top;\n",
       "    }\n",
       "\n",
       "    .dataframe thead th {\n",
       "        text-align: right;\n",
       "    }\n",
       "</style>\n",
       "<table border=\"1\" class=\"dataframe\">\n",
       "  <thead>\n",
       "    <tr style=\"text-align: right;\">\n",
       "      <th></th>\n",
       "      <th>Port Name</th>\n",
       "      <th>State</th>\n",
       "      <th>Port Code</th>\n",
       "      <th>Border</th>\n",
       "      <th>Date</th>\n",
       "      <th>Measure</th>\n",
       "      <th>Value</th>\n",
       "    </tr>\n",
       "  </thead>\n",
       "  <tbody>\n",
       "    <tr>\n",
       "      <th>0</th>\n",
       "      <td>Alcan</td>\n",
       "      <td>AK</td>\n",
       "      <td>3104</td>\n",
       "      <td>US-Canada Border</td>\n",
       "      <td>2/1/2020 00:00</td>\n",
       "      <td>Personal Vehicle Passengers</td>\n",
       "      <td>1414</td>\n",
       "    </tr>\n",
       "    <tr>\n",
       "      <th>1</th>\n",
       "      <td>Alcan</td>\n",
       "      <td>AK</td>\n",
       "      <td>3104</td>\n",
       "      <td>US-Canada Border</td>\n",
       "      <td>2/1/2020 00:00</td>\n",
       "      <td>Personal Vehicles</td>\n",
       "      <td>763</td>\n",
       "    </tr>\n",
       "    <tr>\n",
       "      <th>2</th>\n",
       "      <td>Alcan</td>\n",
       "      <td>AK</td>\n",
       "      <td>3104</td>\n",
       "      <td>US-Canada Border</td>\n",
       "      <td>2/1/2020 00:00</td>\n",
       "      <td>Truck Containers Empty</td>\n",
       "      <td>412</td>\n",
       "    </tr>\n",
       "    <tr>\n",
       "      <th>3</th>\n",
       "      <td>Alcan</td>\n",
       "      <td>AK</td>\n",
       "      <td>3104</td>\n",
       "      <td>US-Canada Border</td>\n",
       "      <td>2/1/2020 00:00</td>\n",
       "      <td>Truck Containers Full</td>\n",
       "      <td>122</td>\n",
       "    </tr>\n",
       "    <tr>\n",
       "      <th>4</th>\n",
       "      <td>Alcan</td>\n",
       "      <td>AK</td>\n",
       "      <td>3104</td>\n",
       "      <td>US-Canada Border</td>\n",
       "      <td>2/1/2020 00:00</td>\n",
       "      <td>Trucks</td>\n",
       "      <td>545</td>\n",
       "    </tr>\n",
       "    <tr>\n",
       "      <th>5</th>\n",
       "      <td>Alexandria Bay</td>\n",
       "      <td>NY</td>\n",
       "      <td>708</td>\n",
       "      <td>US-Canada Border</td>\n",
       "      <td>2/1/2020 00:00</td>\n",
       "      <td>Bus Passengers</td>\n",
       "      <td>1174</td>\n",
       "    </tr>\n",
       "    <tr>\n",
       "      <th>6</th>\n",
       "      <td>Alexandria Bay</td>\n",
       "      <td>NY</td>\n",
       "      <td>708</td>\n",
       "      <td>US-Canada Border</td>\n",
       "      <td>2/1/2020 00:00</td>\n",
       "      <td>Buses</td>\n",
       "      <td>36</td>\n",
       "    </tr>\n",
       "    <tr>\n",
       "      <th>7</th>\n",
       "      <td>Alexandria Bay</td>\n",
       "      <td>NY</td>\n",
       "      <td>708</td>\n",
       "      <td>US-Canada Border</td>\n",
       "      <td>2/1/2020 00:00</td>\n",
       "      <td>Personal Vehicle Passengers</td>\n",
       "      <td>68630</td>\n",
       "    </tr>\n",
       "    <tr>\n",
       "      <th>8</th>\n",
       "      <td>Alexandria Bay</td>\n",
       "      <td>NY</td>\n",
       "      <td>708</td>\n",
       "      <td>US-Canada Border</td>\n",
       "      <td>2/1/2020 00:00</td>\n",
       "      <td>Personal Vehicles</td>\n",
       "      <td>31696</td>\n",
       "    </tr>\n",
       "    <tr>\n",
       "      <th>9</th>\n",
       "      <td>Alexandria Bay</td>\n",
       "      <td>NY</td>\n",
       "      <td>708</td>\n",
       "      <td>US-Canada Border</td>\n",
       "      <td>2/1/2020 00:00</td>\n",
       "      <td>Truck Containers Empty</td>\n",
       "      <td>1875</td>\n",
       "    </tr>\n",
       "    <tr>\n",
       "      <th>10</th>\n",
       "      <td>Alexandria Bay</td>\n",
       "      <td>NY</td>\n",
       "      <td>708</td>\n",
       "      <td>US-Canada Border</td>\n",
       "      <td>2/1/2020 00:00</td>\n",
       "      <td>Truck Containers Full</td>\n",
       "      <td>13160</td>\n",
       "    </tr>\n",
       "    <tr>\n",
       "      <th>11</th>\n",
       "      <td>Alexandria Bay</td>\n",
       "      <td>NY</td>\n",
       "      <td>708</td>\n",
       "      <td>US-Canada Border</td>\n",
       "      <td>2/1/2020 00:00</td>\n",
       "      <td>Trucks</td>\n",
       "      <td>14897</td>\n",
       "    </tr>\n",
       "    <tr>\n",
       "      <th>12</th>\n",
       "      <td>Algonac</td>\n",
       "      <td>MI</td>\n",
       "      <td>3814</td>\n",
       "      <td>US-Canada Border</td>\n",
       "      <td>2/1/2020 00:00</td>\n",
       "      <td>Personal Vehicle Passengers</td>\n",
       "      <td>5173</td>\n",
       "    </tr>\n",
       "    <tr>\n",
       "      <th>13</th>\n",
       "      <td>Algonac</td>\n",
       "      <td>MI</td>\n",
       "      <td>3814</td>\n",
       "      <td>US-Canada Border</td>\n",
       "      <td>2/1/2020 00:00</td>\n",
       "      <td>Personal Vehicles</td>\n",
       "      <td>2701</td>\n",
       "    </tr>\n",
       "    <tr>\n",
       "      <th>14</th>\n",
       "      <td>Ambrose</td>\n",
       "      <td>ND</td>\n",
       "      <td>3410</td>\n",
       "      <td>US-Canada Border</td>\n",
       "      <td>2/1/2020 00:00</td>\n",
       "      <td>Personal Vehicle Passengers</td>\n",
       "      <td>274</td>\n",
       "    </tr>\n",
       "    <tr>\n",
       "      <th>15</th>\n",
       "      <td>Ambrose</td>\n",
       "      <td>ND</td>\n",
       "      <td>3410</td>\n",
       "      <td>US-Canada Border</td>\n",
       "      <td>2/1/2020 00:00</td>\n",
       "      <td>Personal Vehicles</td>\n",
       "      <td>129</td>\n",
       "    </tr>\n",
       "  </tbody>\n",
       "</table>\n",
       "</div>"
      ],
      "text/plain": [
       "         Port Name State  Port Code            Border            Date  \\\n",
       "0            Alcan    AK       3104  US-Canada Border  2/1/2020 00:00   \n",
       "1            Alcan    AK       3104  US-Canada Border  2/1/2020 00:00   \n",
       "2            Alcan    AK       3104  US-Canada Border  2/1/2020 00:00   \n",
       "3            Alcan    AK       3104  US-Canada Border  2/1/2020 00:00   \n",
       "4            Alcan    AK       3104  US-Canada Border  2/1/2020 00:00   \n",
       "5   Alexandria Bay    NY        708  US-Canada Border  2/1/2020 00:00   \n",
       "6   Alexandria Bay    NY        708  US-Canada Border  2/1/2020 00:00   \n",
       "7   Alexandria Bay    NY        708  US-Canada Border  2/1/2020 00:00   \n",
       "8   Alexandria Bay    NY        708  US-Canada Border  2/1/2020 00:00   \n",
       "9   Alexandria Bay    NY        708  US-Canada Border  2/1/2020 00:00   \n",
       "10  Alexandria Bay    NY        708  US-Canada Border  2/1/2020 00:00   \n",
       "11  Alexandria Bay    NY        708  US-Canada Border  2/1/2020 00:00   \n",
       "12         Algonac    MI       3814  US-Canada Border  2/1/2020 00:00   \n",
       "13         Algonac    MI       3814  US-Canada Border  2/1/2020 00:00   \n",
       "14         Ambrose    ND       3410  US-Canada Border  2/1/2020 00:00   \n",
       "15         Ambrose    ND       3410  US-Canada Border  2/1/2020 00:00   \n",
       "\n",
       "                        Measure  Value  \n",
       "0   Personal Vehicle Passengers   1414  \n",
       "1             Personal Vehicles    763  \n",
       "2        Truck Containers Empty    412  \n",
       "3         Truck Containers Full    122  \n",
       "4                        Trucks    545  \n",
       "5                Bus Passengers   1174  \n",
       "6                         Buses     36  \n",
       "7   Personal Vehicle Passengers  68630  \n",
       "8             Personal Vehicles  31696  \n",
       "9        Truck Containers Empty   1875  \n",
       "10        Truck Containers Full  13160  \n",
       "11                       Trucks  14897  \n",
       "12  Personal Vehicle Passengers   5173  \n",
       "13            Personal Vehicles   2701  \n",
       "14  Personal Vehicle Passengers    274  \n",
       "15            Personal Vehicles    129  "
      ]
     },
     "execution_count": 8,
     "metadata": {},
     "output_type": "execute_result"
    }
   ],
   "source": [
    "border_entry = spark.read.csv('Border_Crossing_Entry_Data.csv',header=True, inferSchema=True)\n",
    "border_entry.limit(16).toPandas()"
   ]
  },
  {
   "cell_type": "code",
   "execution_count": 11,
   "metadata": {
    "editable": true
   },
   "outputs": [
    {
     "name": "stdout",
     "output_type": "stream",
     "text": [
      "+----------------+------+\n",
      "|          Border| count|\n",
      "+----------------+------+\n",
      "|US-Mexico Border| 82673|\n",
      "|US-Canada Border|272838|\n",
      "+----------------+------+\n",
      "\n"
     ]
    }
   ],
   "source": [
    "border_entry.groupby('Border').count().show()"
   ]
  },
  {
   "cell_type": "code",
   "execution_count": 11,
   "metadata": {
    "editable": true
   },
   "outputs": [
    {
     "name": "stdout",
     "output_type": "stream",
     "text": [
      "root\n",
      " |-- Port Name: string (nullable = true)\n",
      " |-- State: string (nullable = true)\n",
      " |-- Port Code: integer (nullable = true)\n",
      " |-- Border: string (nullable = true)\n",
      " |-- Date: string (nullable = true)\n",
      " |-- Measure: string (nullable = true)\n",
      " |-- Value: integer (nullable = true)\n",
      "\n"
     ]
    }
   ],
   "source": [
    "border_entry.printSchema()"
   ]
  },
  {
   "cell_type": "code",
   "execution_count": 12,
   "metadata": {
    "editable": true
   },
   "outputs": [
    {
     "data": {
      "text/plain": [
       "355511"
      ]
     },
     "execution_count": 12,
     "metadata": {},
     "output_type": "execute_result"
    }
   ],
   "source": [
    "border_entry.count()"
   ]
  },
  {
   "cell_type": "markdown",
   "metadata": {
    "editable": true
   },
   "source": [
    "#### Data explanation:\n",
    "\n",
    "- Bus Crossings: Number of arriving buses at a particular port, whether or not they are carrying passengers.\n",
    "- Container: A Container is defined as any conveyance entering the U.S. used for commercial purposes, either full or empty. Includes containers moving in-bond for the port initiating the bonded movements.\n",
    "- Types of Containers: The following are examples of a Container: Stakebed truck, truck with a car carrier, van, pickup truck/car, flatbed truck, piggyback truck with two linked trailers/containers = 2 containers, straight truck, bobtail truck, railcar, rail flatbed car stacked with four containers = 4 containers (on each rail car if there is multiple box containers count each container and the flatbed car.), and tri-level boxcar with multiple containers inside = 3 containers\n",
    "- Passengers Crossing In Buses: Number of persons arriving by bus requiring U.S. Customs and Border Protection (CBP) processing.\n",
    "- Passengers Crossing In Privately Owned Vehicles: Persons entering the United States at a particular port by private automobiles, pick-up trucks, motorcycles, recreational vehicles, taxis, ambulances, hearses, tractors, snowmobiles and other motorized private ground vehicles.\n",
    "- Passengers Crossing In Trains: Number of passengers and crew arriving by train and requiring CBP processing.\n",
    "- Pedestrian Crossings: The number of persons arriving on foot or by certain conveyance (such as bicycles, mopeds, or wheel chairs) requiring CBP processing.\n",
    "- Privately Owned Vehicle Crossings: Number of privately owned vehicles (POVs) arriving at a particular port. Includes pick-up trucks, motorcycles, recreational vehicles, taxis, snowmobiles, ambulances, hearses, and other motorized private ground vehicles.\n",
    "- Rail Container Crossings (loaded and empty): A container is any conveyance entering the U.S. used for commercial purposes, full or empty. In this case, it is the number of full or empty rail containers arriving at a port. This series includes containers moving as inbound shipments.\n",
    "- Train Crossings: Number of arriving trains at a particular port.\n",
    "- Truck Container Crossings (loaded and empty): A container is any conveyance entering the U.S. used for commercial purposes, full or empty. In this case, it is the number of full or empty truck containers arriving at a port. This series includes containers moving as inbound shipments.\n",
    "- Truck Crossings: Number of arriving trucks; does not include privately owned pick-up trucks."
   ]
  },
  {
   "cell_type": "markdown",
   "metadata": {
    "editable": true
   },
   "source": [
    "### Step 2: Explore and Assess the Data\n",
    "#### Explore the Data \n",
    "Identify data quality issues, like missing values, duplicate data, etc.\n",
    "\n",
    "#### Cleaning Steps\n",
    "Document steps necessary to clean the data"
   ]
  },
  {
   "cell_type": "code",
   "execution_count": 13,
   "metadata": {
    "editable": true
   },
   "outputs": [],
   "source": [
    "def missing_values(df):\n",
    "    \"\"\"Visualize missing values in a spark dataframe\n",
    "    \n",
    "    :param df: spark dataframe\n",
    "    \"\"\"\n",
    "    # create a dataframe with missing values count per column\n",
    "    nan_count_df = df.select([count(when(isnan(c) | col(c).isNull(), c)).alias(c) for c in df.columns]).toPandas()\n",
    "    \n",
    "    # convert dataframe from wide format to long format\n",
    "    nan_count_df = pd.melt(nan_count_df, var_name='cols', value_name='values')\n",
    "    \n",
    "    # count total records in df\n",
    "    total = df.count()\n",
    "    \n",
    "    \n",
    "    # now lets add % missing values column\n",
    "    nan_count_df['% missing values'] = 100*nan_count_df['values']/total\n",
    "    \n",
    "    nan_count_df = nan_count_df.sort_values('% missing values', ascending=False)\n",
    "    \n",
    "    return nan_count_df"
   ]
  },
  {
   "cell_type": "markdown",
   "metadata": {
    "editable": true
   },
   "source": [
    "## US 2016 immigration data"
   ]
  },
  {
   "cell_type": "code",
   "execution_count": 106,
   "metadata": {
    "editable": true
   },
   "outputs": [
    {
     "data": {
      "text/html": [
       "<div>\n",
       "<style scoped>\n",
       "    .dataframe tbody tr th:only-of-type {\n",
       "        vertical-align: middle;\n",
       "    }\n",
       "\n",
       "    .dataframe tbody tr th {\n",
       "        vertical-align: top;\n",
       "    }\n",
       "\n",
       "    .dataframe thead th {\n",
       "        text-align: right;\n",
       "    }\n",
       "</style>\n",
       "<table border=\"1\" class=\"dataframe\">\n",
       "  <thead>\n",
       "    <tr style=\"text-align: right;\">\n",
       "      <th></th>\n",
       "      <th>cols</th>\n",
       "      <th>values</th>\n",
       "      <th>% missing values</th>\n",
       "    </tr>\n",
       "  </thead>\n",
       "  <tbody>\n",
       "    <tr>\n",
       "      <th>18</th>\n",
       "      <td>entdepu</td>\n",
       "      <td>3095921</td>\n",
       "      <td>99.987340</td>\n",
       "    </tr>\n",
       "    <tr>\n",
       "      <th>15</th>\n",
       "      <td>occup</td>\n",
       "      <td>3088187</td>\n",
       "      <td>99.737559</td>\n",
       "    </tr>\n",
       "    <tr>\n",
       "      <th>23</th>\n",
       "      <td>insnum</td>\n",
       "      <td>2982605</td>\n",
       "      <td>96.327632</td>\n",
       "    </tr>\n",
       "    <tr>\n",
       "      <th>14</th>\n",
       "      <td>visapost</td>\n",
       "      <td>1881250</td>\n",
       "      <td>60.757746</td>\n",
       "    </tr>\n",
       "    <tr>\n",
       "      <th>22</th>\n",
       "      <td>gender</td>\n",
       "      <td>414269</td>\n",
       "      <td>13.379429</td>\n",
       "    </tr>\n",
       "    <tr>\n",
       "      <th>8</th>\n",
       "      <td>i94addr</td>\n",
       "      <td>152592</td>\n",
       "      <td>4.928184</td>\n",
       "    </tr>\n",
       "    <tr>\n",
       "      <th>9</th>\n",
       "      <td>depdate</td>\n",
       "      <td>142457</td>\n",
       "      <td>4.600859</td>\n",
       "    </tr>\n",
       "    <tr>\n",
       "      <th>19</th>\n",
       "      <td>matflag</td>\n",
       "      <td>138429</td>\n",
       "      <td>4.470769</td>\n",
       "    </tr>\n",
       "    <tr>\n",
       "      <th>17</th>\n",
       "      <td>entdepd</td>\n",
       "      <td>138429</td>\n",
       "      <td>4.470769</td>\n",
       "    </tr>\n",
       "    <tr>\n",
       "      <th>24</th>\n",
       "      <td>airline</td>\n",
       "      <td>83627</td>\n",
       "      <td>2.700857</td>\n",
       "    </tr>\n",
       "    <tr>\n",
       "      <th>26</th>\n",
       "      <td>fltno</td>\n",
       "      <td>19549</td>\n",
       "      <td>0.631364</td>\n",
       "    </tr>\n",
       "    <tr>\n",
       "      <th>10</th>\n",
       "      <td>i94bir</td>\n",
       "      <td>802</td>\n",
       "      <td>0.025902</td>\n",
       "    </tr>\n",
       "    <tr>\n",
       "      <th>20</th>\n",
       "      <td>biryear</td>\n",
       "      <td>802</td>\n",
       "      <td>0.025902</td>\n",
       "    </tr>\n",
       "    <tr>\n",
       "      <th>21</th>\n",
       "      <td>dtaddto</td>\n",
       "      <td>477</td>\n",
       "      <td>0.015405</td>\n",
       "    </tr>\n",
       "    <tr>\n",
       "      <th>7</th>\n",
       "      <td>i94mode</td>\n",
       "      <td>239</td>\n",
       "      <td>0.007719</td>\n",
       "    </tr>\n",
       "    <tr>\n",
       "      <th>16</th>\n",
       "      <td>entdepa</td>\n",
       "      <td>238</td>\n",
       "      <td>0.007687</td>\n",
       "    </tr>\n",
       "    <tr>\n",
       "      <th>13</th>\n",
       "      <td>dtadfile</td>\n",
       "      <td>1</td>\n",
       "      <td>0.000032</td>\n",
       "    </tr>\n",
       "    <tr>\n",
       "      <th>25</th>\n",
       "      <td>admnum</td>\n",
       "      <td>0</td>\n",
       "      <td>0.000000</td>\n",
       "    </tr>\n",
       "    <tr>\n",
       "      <th>0</th>\n",
       "      <td>cicid</td>\n",
       "      <td>0</td>\n",
       "      <td>0.000000</td>\n",
       "    </tr>\n",
       "    <tr>\n",
       "      <th>1</th>\n",
       "      <td>i94yr</td>\n",
       "      <td>0</td>\n",
       "      <td>0.000000</td>\n",
       "    </tr>\n",
       "    <tr>\n",
       "      <th>12</th>\n",
       "      <td>count</td>\n",
       "      <td>0</td>\n",
       "      <td>0.000000</td>\n",
       "    </tr>\n",
       "    <tr>\n",
       "      <th>11</th>\n",
       "      <td>i94visa</td>\n",
       "      <td>0</td>\n",
       "      <td>0.000000</td>\n",
       "    </tr>\n",
       "    <tr>\n",
       "      <th>6</th>\n",
       "      <td>arrdate</td>\n",
       "      <td>0</td>\n",
       "      <td>0.000000</td>\n",
       "    </tr>\n",
       "    <tr>\n",
       "      <th>5</th>\n",
       "      <td>i94port</td>\n",
       "      <td>0</td>\n",
       "      <td>0.000000</td>\n",
       "    </tr>\n",
       "    <tr>\n",
       "      <th>4</th>\n",
       "      <td>i94res</td>\n",
       "      <td>0</td>\n",
       "      <td>0.000000</td>\n",
       "    </tr>\n",
       "    <tr>\n",
       "      <th>3</th>\n",
       "      <td>i94cit</td>\n",
       "      <td>0</td>\n",
       "      <td>0.000000</td>\n",
       "    </tr>\n",
       "    <tr>\n",
       "      <th>2</th>\n",
       "      <td>i94mon</td>\n",
       "      <td>0</td>\n",
       "      <td>0.000000</td>\n",
       "    </tr>\n",
       "    <tr>\n",
       "      <th>27</th>\n",
       "      <td>visatype</td>\n",
       "      <td>0</td>\n",
       "      <td>0.000000</td>\n",
       "    </tr>\n",
       "  </tbody>\n",
       "</table>\n",
       "</div>"
      ],
      "text/plain": [
       "        cols   values  % missing values\n",
       "18   entdepu  3095921         99.987340\n",
       "15     occup  3088187         99.737559\n",
       "23    insnum  2982605         96.327632\n",
       "14  visapost  1881250         60.757746\n",
       "22    gender   414269         13.379429\n",
       "8    i94addr   152592          4.928184\n",
       "9    depdate   142457          4.600859\n",
       "19   matflag   138429          4.470769\n",
       "17   entdepd   138429          4.470769\n",
       "24   airline    83627          2.700857\n",
       "26     fltno    19549          0.631364\n",
       "10    i94bir      802          0.025902\n",
       "20   biryear      802          0.025902\n",
       "21   dtaddto      477          0.015405\n",
       "7    i94mode      239          0.007719\n",
       "16   entdepa      238          0.007687\n",
       "13  dtadfile        1          0.000032\n",
       "25    admnum        0          0.000000\n",
       "0      cicid        0          0.000000\n",
       "1      i94yr        0          0.000000\n",
       "12     count        0          0.000000\n",
       "11   i94visa        0          0.000000\n",
       "6    arrdate        0          0.000000\n",
       "5    i94port        0          0.000000\n",
       "4     i94res        0          0.000000\n",
       "3     i94cit        0          0.000000\n",
       "2     i94mon        0          0.000000\n",
       "27  visatype        0          0.000000"
      ]
     },
     "execution_count": 106,
     "metadata": {},
     "output_type": "execute_result"
    }
   ],
   "source": [
    "missing_values(df_spark)"
   ]
  },
  {
   "cell_type": "markdown",
   "metadata": {
    "editable": true
   },
   "source": [
    "We can see from the missing data columns, columns 'entdepu','occup' and 'isnum' have almost only null value data. So we are going to drop these columns"
   ]
  },
  {
   "cell_type": "code",
   "execution_count": 9,
   "metadata": {
    "editable": true
   },
   "outputs": [
    {
     "name": "stdout",
     "output_type": "stream",
     "text": [
      "root\n",
      " |-- cicid: double (nullable = true)\n",
      " |-- i94yr: double (nullable = true)\n",
      " |-- i94mon: double (nullable = true)\n",
      " |-- i94cit: double (nullable = true)\n",
      " |-- i94res: double (nullable = true)\n",
      " |-- i94port: string (nullable = true)\n",
      " |-- arrdate: double (nullable = true)\n",
      " |-- i94mode: double (nullable = true)\n",
      " |-- i94addr: string (nullable = true)\n",
      " |-- depdate: double (nullable = true)\n",
      " |-- i94bir: double (nullable = true)\n",
      " |-- i94visa: double (nullable = true)\n",
      " |-- count: double (nullable = true)\n",
      " |-- dtadfile: string (nullable = true)\n",
      " |-- visapost: string (nullable = true)\n",
      " |-- entdepa: string (nullable = true)\n",
      " |-- entdepd: string (nullable = true)\n",
      " |-- matflag: string (nullable = true)\n",
      " |-- biryear: double (nullable = true)\n",
      " |-- dtaddto: string (nullable = true)\n",
      " |-- gender: string (nullable = true)\n",
      " |-- airline: string (nullable = true)\n",
      " |-- admnum: double (nullable = true)\n",
      " |-- fltno: string (nullable = true)\n",
      " |-- visatype: string (nullable = true)\n",
      "\n"
     ]
    }
   ],
   "source": [
    "to_drop = ['entdepu','occup','insnum']\n",
    "immigration_data = df_spark.drop(*to_drop)\n",
    "immigration_data.printSchema()"
   ]
  },
  {
   "cell_type": "markdown",
   "metadata": {
    "editable": true
   },
   "source": [
    "Now let's check whether there are duplicated data. Since 'cicid' is the unique identifier, we should drop the duplicated data by using 'cicid'"
   ]
  },
  {
   "cell_type": "code",
   "execution_count": 10,
   "metadata": {
    "editable": true
   },
   "outputs": [
    {
     "data": {
      "text/plain": [
       "3096313"
      ]
     },
     "execution_count": 10,
     "metadata": {},
     "output_type": "execute_result"
    }
   ],
   "source": [
    "immigration_data = immigration_data.dropDuplicates(['cicid'])\n",
    "immigration_data.count()"
   ]
  },
  {
   "cell_type": "markdown",
   "metadata": {
    "editable": true
   },
   "source": [
    "## Tweeter Data\n",
    "\n",
    "By repeating the same cleaning steps from the immigration dataset."
   ]
  },
  {
   "cell_type": "code",
   "execution_count": 112,
   "metadata": {
    "editable": true
   },
   "outputs": [
    {
     "data": {
      "text/html": [
       "<div>\n",
       "<style scoped>\n",
       "    .dataframe tbody tr th:only-of-type {\n",
       "        vertical-align: middle;\n",
       "    }\n",
       "\n",
       "    .dataframe tbody tr th {\n",
       "        vertical-align: top;\n",
       "    }\n",
       "\n",
       "    .dataframe thead th {\n",
       "        text-align: right;\n",
       "    }\n",
       "</style>\n",
       "<table border=\"1\" class=\"dataframe\">\n",
       "  <thead>\n",
       "    <tr style=\"text-align: right;\">\n",
       "      <th></th>\n",
       "      <th>cols</th>\n",
       "      <th>values</th>\n",
       "      <th>% missing values</th>\n",
       "    </tr>\n",
       "  </thead>\n",
       "  <tbody>\n",
       "    <tr>\n",
       "      <th>8</th>\n",
       "      <td>negativereason_gold</td>\n",
       "      <td>14805</td>\n",
       "      <td>99.784323</td>\n",
       "    </tr>\n",
       "    <tr>\n",
       "      <th>6</th>\n",
       "      <td>airline_sentiment_gold</td>\n",
       "      <td>14788</td>\n",
       "      <td>99.669745</td>\n",
       "    </tr>\n",
       "    <tr>\n",
       "      <th>11</th>\n",
       "      <td>tweet_coord</td>\n",
       "      <td>13768</td>\n",
       "      <td>92.795039</td>\n",
       "    </tr>\n",
       "    <tr>\n",
       "      <th>15</th>\n",
       "      <td>IATA</td>\n",
       "      <td>11420</td>\n",
       "      <td>76.969738</td>\n",
       "    </tr>\n",
       "    <tr>\n",
       "      <th>16</th>\n",
       "      <td>ICAO</td>\n",
       "      <td>11420</td>\n",
       "      <td>76.969738</td>\n",
       "    </tr>\n",
       "    <tr>\n",
       "      <th>4</th>\n",
       "      <td>negativereason</td>\n",
       "      <td>5573</td>\n",
       "      <td>37.561502</td>\n",
       "    </tr>\n",
       "    <tr>\n",
       "      <th>14</th>\n",
       "      <td>user_timezone</td>\n",
       "      <td>5103</td>\n",
       "      <td>34.393745</td>\n",
       "    </tr>\n",
       "    <tr>\n",
       "      <th>13</th>\n",
       "      <td>tweet_location</td>\n",
       "      <td>5010</td>\n",
       "      <td>33.766934</td>\n",
       "    </tr>\n",
       "    <tr>\n",
       "      <th>5</th>\n",
       "      <td>negativereason_confidence</td>\n",
       "      <td>4229</td>\n",
       "      <td>28.503067</td>\n",
       "    </tr>\n",
       "    <tr>\n",
       "      <th>12</th>\n",
       "      <td>tweet_created</td>\n",
       "      <td>389</td>\n",
       "      <td>2.621824</td>\n",
       "    </tr>\n",
       "    <tr>\n",
       "      <th>9</th>\n",
       "      <td>retweet_count</td>\n",
       "      <td>205</td>\n",
       "      <td>1.381681</td>\n",
       "    </tr>\n",
       "    <tr>\n",
       "      <th>10</th>\n",
       "      <td>text</td>\n",
       "      <td>205</td>\n",
       "      <td>1.381681</td>\n",
       "    </tr>\n",
       "    <tr>\n",
       "      <th>7</th>\n",
       "      <td>name</td>\n",
       "      <td>196</td>\n",
       "      <td>1.321022</td>\n",
       "    </tr>\n",
       "    <tr>\n",
       "      <th>0</th>\n",
       "      <td>airline</td>\n",
       "      <td>179</td>\n",
       "      <td>1.206443</td>\n",
       "    </tr>\n",
       "    <tr>\n",
       "      <th>2</th>\n",
       "      <td>airline_sentiment</td>\n",
       "      <td>155</td>\n",
       "      <td>1.044686</td>\n",
       "    </tr>\n",
       "    <tr>\n",
       "      <th>3</th>\n",
       "      <td>airline_sentiment_confidence</td>\n",
       "      <td>68</td>\n",
       "      <td>0.458314</td>\n",
       "    </tr>\n",
       "    <tr>\n",
       "      <th>1</th>\n",
       "      <td>tweet_id</td>\n",
       "      <td>0</td>\n",
       "      <td>0.000000</td>\n",
       "    </tr>\n",
       "  </tbody>\n",
       "</table>\n",
       "</div>"
      ],
      "text/plain": [
       "                            cols  values  % missing values\n",
       "8            negativereason_gold   14805         99.784323\n",
       "6         airline_sentiment_gold   14788         99.669745\n",
       "11                   tweet_coord   13768         92.795039\n",
       "15                          IATA   11420         76.969738\n",
       "16                          ICAO   11420         76.969738\n",
       "4                 negativereason    5573         37.561502\n",
       "14                 user_timezone    5103         34.393745\n",
       "13                tweet_location    5010         33.766934\n",
       "5      negativereason_confidence    4229         28.503067\n",
       "12                 tweet_created     389          2.621824\n",
       "9                  retweet_count     205          1.381681\n",
       "10                          text     205          1.381681\n",
       "7                           name     196          1.321022\n",
       "0                        airline     179          1.206443\n",
       "2              airline_sentiment     155          1.044686\n",
       "3   airline_sentiment_confidence      68          0.458314\n",
       "1                       tweet_id       0          0.000000"
      ]
     },
     "execution_count": 112,
     "metadata": {},
     "output_type": "execute_result"
    }
   ],
   "source": [
    "missing_values(tweet_airline)"
   ]
  },
  {
   "cell_type": "code",
   "execution_count": 97,
   "metadata": {
    "editable": true
   },
   "outputs": [
    {
     "name": "stdout",
     "output_type": "stream",
     "text": [
      "root\n",
      " |-- airline: string (nullable = true)\n",
      " |-- tweet_id: string (nullable = true)\n",
      " |-- airline_sentiment: string (nullable = true)\n",
      " |-- airline_sentiment_confidence: string (nullable = true)\n",
      " |-- negativereason: string (nullable = true)\n",
      " |-- negativereason_confidence: string (nullable = true)\n",
      " |-- name: string (nullable = true)\n",
      " |-- retweet_count: integer (nullable = true)\n",
      " |-- text: string (nullable = true)\n",
      " |-- tweet_created: string (nullable = true)\n",
      " |-- tweet_location: string (nullable = true)\n",
      " |-- user_timezone: string (nullable = true)\n",
      " |-- IATA: string (nullable = true)\n",
      " |-- ICAO: string (nullable = true)\n",
      "\n"
     ]
    }
   ],
   "source": [
    "to_drop = ['negativereason_gold','airline_sentiment_gold','tweet_coord']\n",
    "tweet_airline = tweet_airline.drop(*to_drop)\n",
    "tweet_airline.printSchema()"
   ]
  },
  {
   "cell_type": "code",
   "execution_count": 12,
   "metadata": {
    "editable": true
   },
   "outputs": [
    {
     "data": {
      "text/plain": [
       "14657"
      ]
     },
     "execution_count": 12,
     "metadata": {},
     "output_type": "execute_result"
    }
   ],
   "source": [
    "tweet_airline = tweet_airline.dropDuplicates(['tweet_id'])\n",
    "tweet_airline.count()"
   ]
  },
  {
   "cell_type": "code",
   "execution_count": 46,
   "metadata": {
    "editable": true
   },
   "outputs": [
    {
     "name": "stdout",
     "output_type": "stream",
     "text": [
      "+--------------------+-----+\n",
      "|   airline_sentiment|count|\n",
      "+--------------------+-----+\n",
      "|   ubetter do smth!\"|    1|\n",
      "|[35.23185283, -80...|    1|\n",
      "|            positive| 2334|\n",
      "| we had a good ru...|    1|\n",
      "| never submits. F...|    1|\n",
      "|[40.7740308, -73....|    1|\n",
      "|                   0|    6|\n",
      "|     please????????\"|    1|\n",
      "|                null|  136|\n",
      "| flight AA1469 2/...|    1|\n",
      "|[51.44284934, -0....|    1|\n",
      "|[40.65062011, -73...|    1|\n",
      "| or just days tha...|    1|\n",
      "|             neutral| 3069|\n",
      "|            negative| 9082|\n",
      "| and I might choo...|    1|\n",
      "|            Virginia|    1|\n",
      "|          [0.0, 0.0]|    1|\n",
      "| you've been rath...|    1|\n",
      "| gave ticks away ...|    1|\n",
      "+--------------------+-----+\n",
      "only showing top 20 rows\n",
      "\n"
     ]
    }
   ],
   "source": [
    "tweet_airline.groupby('airline_sentiment').count().show()"
   ]
  },
  {
   "cell_type": "code",
   "execution_count": 98,
   "metadata": {
    "editable": true
   },
   "outputs": [],
   "source": [
    "tweet_airline = tweet_airline.where((col(\"airline_sentiment\") == \"positive\") | (col(\"airline_sentiment\") == \"neutral\") | (col(\"airline_sentiment\") == \"negative\"))"
   ]
  },
  {
   "cell_type": "code",
   "execution_count": 67,
   "metadata": {
    "editable": true
   },
   "outputs": [
    {
     "name": "stdout",
     "output_type": "stream",
     "text": [
      "+-----------------+-----+\n",
      "|airline_sentiment|count|\n",
      "+-----------------+-----+\n",
      "|         positive| 2363|\n",
      "|          neutral| 3099|\n",
      "|         negative| 9178|\n",
      "+-----------------+-----+\n",
      "\n"
     ]
    }
   ],
   "source": [
    "tweet_airline.groupby('airline_sentiment').count().show()"
   ]
  },
  {
   "cell_type": "markdown",
   "metadata": {
    "editable": true
   },
   "source": [
    "## Border entry data"
   ]
  },
  {
   "cell_type": "code",
   "execution_count": 117,
   "metadata": {
    "editable": true
   },
   "outputs": [
    {
     "data": {
      "text/html": [
       "<div>\n",
       "<style scoped>\n",
       "    .dataframe tbody tr th:only-of-type {\n",
       "        vertical-align: middle;\n",
       "    }\n",
       "\n",
       "    .dataframe tbody tr th {\n",
       "        vertical-align: top;\n",
       "    }\n",
       "\n",
       "    .dataframe thead th {\n",
       "        text-align: right;\n",
       "    }\n",
       "</style>\n",
       "<table border=\"1\" class=\"dataframe\">\n",
       "  <thead>\n",
       "    <tr style=\"text-align: right;\">\n",
       "      <th></th>\n",
       "      <th>cols</th>\n",
       "      <th>values</th>\n",
       "      <th>% missing values</th>\n",
       "    </tr>\n",
       "  </thead>\n",
       "  <tbody>\n",
       "    <tr>\n",
       "      <th>0</th>\n",
       "      <td>Port Name</td>\n",
       "      <td>0</td>\n",
       "      <td>0.0</td>\n",
       "    </tr>\n",
       "    <tr>\n",
       "      <th>1</th>\n",
       "      <td>State</td>\n",
       "      <td>0</td>\n",
       "      <td>0.0</td>\n",
       "    </tr>\n",
       "    <tr>\n",
       "      <th>2</th>\n",
       "      <td>Port Code</td>\n",
       "      <td>0</td>\n",
       "      <td>0.0</td>\n",
       "    </tr>\n",
       "    <tr>\n",
       "      <th>3</th>\n",
       "      <td>Border</td>\n",
       "      <td>0</td>\n",
       "      <td>0.0</td>\n",
       "    </tr>\n",
       "    <tr>\n",
       "      <th>4</th>\n",
       "      <td>Date</td>\n",
       "      <td>0</td>\n",
       "      <td>0.0</td>\n",
       "    </tr>\n",
       "    <tr>\n",
       "      <th>5</th>\n",
       "      <td>Measure</td>\n",
       "      <td>0</td>\n",
       "      <td>0.0</td>\n",
       "    </tr>\n",
       "    <tr>\n",
       "      <th>6</th>\n",
       "      <td>Value</td>\n",
       "      <td>0</td>\n",
       "      <td>0.0</td>\n",
       "    </tr>\n",
       "  </tbody>\n",
       "</table>\n",
       "</div>"
      ],
      "text/plain": [
       "        cols  values  % missing values\n",
       "0  Port Name       0               0.0\n",
       "1      State       0               0.0\n",
       "2  Port Code       0               0.0\n",
       "3     Border       0               0.0\n",
       "4       Date       0               0.0\n",
       "5    Measure       0               0.0\n",
       "6      Value       0               0.0"
      ]
     },
     "execution_count": 117,
     "metadata": {},
     "output_type": "execute_result"
    }
   ],
   "source": [
    "missing_values(border_entry)"
   ]
  },
  {
   "cell_type": "code",
   "execution_count": 13,
   "metadata": {
    "editable": true
   },
   "outputs": [],
   "source": [
    "border_entry = border_entry.withColumn(\"datetype_timestamp\", to_timestamp(\"Date\", \"MM/dd/yyyy HH:mm\"))"
   ]
  },
  {
   "cell_type": "markdown",
   "metadata": {
    "editable": true
   },
   "source": [
    "### Step 3: Define the Data Model\n",
    "#### 3.1 Conceptual Data Model\n",
    "Map out the conceptual data model and explain why you chose that model\n",
    "\n",
    "#### 3.2 Mapping Out Data Pipelines\n",
    "List the steps necessary to pipeline the data into the chosen data model"
   ]
  },
  {
   "cell_type": "markdown",
   "metadata": {
    "editable": true
   },
   "source": [
    "The method I am going to use to build my data model is **Star Schema**. It will be made by 4 dimension tables and one fact table."
   ]
  },
  {
   "cell_type": "markdown",
   "metadata": {
    "editable": true
   },
   "source": [
    "<img src=\"star_schema2.JPG\"> "
   ]
  },
  {
   "cell_type": "markdown",
   "metadata": {
    "editable": true
   },
   "source": [
    "### Step 4: Run Pipelines to Model the Data \n",
    "#### 4.1 Create the data model\n",
    "Build the data pipelines to create the data model."
   ]
  },
  {
   "cell_type": "markdown",
   "metadata": {
    "editable": true
   },
   "source": [
    "### Visit dimension table"
   ]
  },
  {
   "cell_type": "code",
   "execution_count": 14,
   "metadata": {
    "editable": true
   },
   "outputs": [
    {
     "name": "stdout",
     "output_type": "stream",
     "text": [
      "root\n",
      " |-- visit_id: double (nullable = true)\n",
      " |-- origin_country: double (nullable = true)\n",
      " |-- residence_country: double (nullable = true)\n",
      " |-- gender: string (nullable = true)\n",
      " |-- age: double (nullable = true)\n",
      " |-- arrival_airport: string (nullable = true)\n",
      " |-- arrival_state: string (nullable = true)\n",
      " |-- transportation_mode: double (nullable = true)\n",
      " |-- visa_category: double (nullable = true)\n",
      " |-- visa_type: string (nullable = true)\n",
      " |-- arrival_airline: string (nullable = true)\n",
      " |-- flight_number: string (nullable = true)\n",
      "\n"
     ]
    }
   ],
   "source": [
    "# select the columns which I want to make visit dimenstion table\n",
    "visit = immigration_data.select(col('cicid').alias('visit_id'),\\\n",
    "                               col('i94cit').alias('origin_country'),\\\n",
    "                               col('i94res').alias('residence_country'),\\\n",
    "                               col('gender').alias('gender'),\\\n",
    "                               col('i94bir').alias('age'),\\\n",
    "                               col('i94port').alias('arrival_airport'),\\\n",
    "                               col('i94addr').alias('arrival_state'),\\\n",
    "                               col('i94mode').alias('transportation_mode'),\\\n",
    "                               col('I94visa').alias('visa_category'),\\\n",
    "                               col('visatype').alias('visa_type'),\\\n",
    "                               col('airline').alias('arrival_airline'),\\\n",
    "                               col('fltno').alias('flight_number'))\n",
    "visit.printSchema()"
   ]
  },
  {
   "cell_type": "code",
   "execution_count": 18,
   "metadata": {
    "editable": true
   },
   "outputs": [
    {
     "data": {
      "text/html": [
       "<div>\n",
       "<style scoped>\n",
       "    .dataframe tbody tr th:only-of-type {\n",
       "        vertical-align: middle;\n",
       "    }\n",
       "\n",
       "    .dataframe tbody tr th {\n",
       "        vertical-align: top;\n",
       "    }\n",
       "\n",
       "    .dataframe thead th {\n",
       "        text-align: right;\n",
       "    }\n",
       "</style>\n",
       "<table border=\"1\" class=\"dataframe\">\n",
       "  <thead>\n",
       "    <tr style=\"text-align: right;\">\n",
       "      <th></th>\n",
       "      <th>visit_id</th>\n",
       "      <th>origin_country</th>\n",
       "      <th>residence_country</th>\n",
       "      <th>gender</th>\n",
       "      <th>age</th>\n",
       "      <th>arrival_airport</th>\n",
       "      <th>arrival_state</th>\n",
       "      <th>transportation_mode</th>\n",
       "      <th>visa_category</th>\n",
       "      <th>visa_type</th>\n",
       "      <th>arrival_airline</th>\n",
       "      <th>flight_number</th>\n",
       "    </tr>\n",
       "  </thead>\n",
       "  <tbody>\n",
       "    <tr>\n",
       "      <th>0</th>\n",
       "      <td>299.0</td>\n",
       "      <td>103.0</td>\n",
       "      <td>103.0</td>\n",
       "      <td>None</td>\n",
       "      <td>54.0</td>\n",
       "      <td>NYC</td>\n",
       "      <td>NY</td>\n",
       "      <td>1.0</td>\n",
       "      <td>2.0</td>\n",
       "      <td>WT</td>\n",
       "      <td>OS</td>\n",
       "      <td>00087</td>\n",
       "    </tr>\n",
       "    <tr>\n",
       "      <th>1</th>\n",
       "      <td>305.0</td>\n",
       "      <td>103.0</td>\n",
       "      <td>103.0</td>\n",
       "      <td>None</td>\n",
       "      <td>63.0</td>\n",
       "      <td>NYC</td>\n",
       "      <td>NY</td>\n",
       "      <td>1.0</td>\n",
       "      <td>2.0</td>\n",
       "      <td>WT</td>\n",
       "      <td>OS</td>\n",
       "      <td>00087</td>\n",
       "    </tr>\n",
       "    <tr>\n",
       "      <th>2</th>\n",
       "      <td>496.0</td>\n",
       "      <td>103.0</td>\n",
       "      <td>103.0</td>\n",
       "      <td>None</td>\n",
       "      <td>64.0</td>\n",
       "      <td>CHI</td>\n",
       "      <td>IL</td>\n",
       "      <td>1.0</td>\n",
       "      <td>1.0</td>\n",
       "      <td>WB</td>\n",
       "      <td>OS</td>\n",
       "      <td>00065</td>\n",
       "    </tr>\n",
       "    <tr>\n",
       "      <th>3</th>\n",
       "      <td>558.0</td>\n",
       "      <td>103.0</td>\n",
       "      <td>103.0</td>\n",
       "      <td>M</td>\n",
       "      <td>42.0</td>\n",
       "      <td>SFR</td>\n",
       "      <td>CA</td>\n",
       "      <td>1.0</td>\n",
       "      <td>1.0</td>\n",
       "      <td>WB</td>\n",
       "      <td>LH</td>\n",
       "      <td>00454</td>\n",
       "    </tr>\n",
       "    <tr>\n",
       "      <th>4</th>\n",
       "      <td>596.0</td>\n",
       "      <td>103.0</td>\n",
       "      <td>103.0</td>\n",
       "      <td>M</td>\n",
       "      <td>24.0</td>\n",
       "      <td>NAS</td>\n",
       "      <td>FL</td>\n",
       "      <td>1.0</td>\n",
       "      <td>2.0</td>\n",
       "      <td>WT</td>\n",
       "      <td>UP</td>\n",
       "      <td>00221</td>\n",
       "    </tr>\n",
       "  </tbody>\n",
       "</table>\n",
       "</div>"
      ],
      "text/plain": [
       "   visit_id  origin_country  residence_country gender   age arrival_airport  \\\n",
       "0     299.0           103.0              103.0   None  54.0             NYC   \n",
       "1     305.0           103.0              103.0   None  63.0             NYC   \n",
       "2     496.0           103.0              103.0   None  64.0             CHI   \n",
       "3     558.0           103.0              103.0      M  42.0             SFR   \n",
       "4     596.0           103.0              103.0      M  24.0             NAS   \n",
       "\n",
       "  arrival_state  transportation_mode  visa_category visa_type arrival_airline  \\\n",
       "0            NY                  1.0            2.0        WT              OS   \n",
       "1            NY                  1.0            2.0        WT              OS   \n",
       "2            IL                  1.0            1.0        WB              OS   \n",
       "3            CA                  1.0            1.0        WB              LH   \n",
       "4            FL                  1.0            2.0        WT              UP   \n",
       "\n",
       "  flight_number  \n",
       "0         00087  \n",
       "1         00087  \n",
       "2         00065  \n",
       "3         00454  \n",
       "4         00221  "
      ]
     },
     "execution_count": 18,
     "metadata": {},
     "output_type": "execute_result"
    }
   ],
   "source": [
    "visit.limit(5).toPandas()"
   ]
  },
  {
   "cell_type": "code",
   "execution_count": 18,
   "metadata": {
    "editable": true
   },
   "outputs": [],
   "source": [
    "# Save the table into parquet and partion by 'arrival_year','arrival_month'\n",
    "partitions = ['arrival_state','arrival_airport']\n",
    "\n",
    "visit.write.parquet(\"visit\", partitionBy=partitions, mode=\"overwrite\")"
   ]
  },
  {
   "cell_type": "markdown",
   "metadata": {
    "editable": true
   },
   "source": [
    "### Time Dimension Table"
   ]
  },
  {
   "cell_type": "code",
   "execution_count": 15,
   "metadata": {
    "editable": true
   },
   "outputs": [
    {
     "name": "stdout",
     "output_type": "stream",
     "text": [
      "root\n",
      " |-- arrival_date: double (nullable = true)\n",
      " |-- departure_date: double (nullable = true)\n",
      "\n"
     ]
    }
   ],
   "source": [
    "# select the columns which I want to make visitor dimenstion table\n",
    "time = immigration_data.select(col('arrdate').alias('arrival_date'),\\\n",
    "                               col('depdate').alias('departure_date'))\n",
    "time.printSchema()"
   ]
  },
  {
   "cell_type": "code",
   "execution_count": 16,
   "metadata": {
    "editable": true
   },
   "outputs": [],
   "source": [
    "# Convert SAS numeric date into normal datetime\n",
    "get_datetime = udf(lambda x: (dt.datetime(1960, 1, 1).date() + dt.timedelta(x)).isoformat() if x else None)\n",
    "\n",
    "time = time.withColumn('arrival_date_time', get_datetime(time['arrival_date']))\n",
    "\n",
    "time = time.withColumn('arrival_year', year('arrival_date_time'))\n",
    "time = time.withColumn('arrival_month', month('arrival_date_time'))\n",
    "time = time.withColumn('arrival_day', dayofmonth('arrival_date_time'))\n",
    "time = time.withColumn('arrival_week', weekofyear('arrival_date_time'))\n",
    "time = time.withColumn('arrival_day_of_week', dayofweek('arrival_date_time'))\n",
    "\n",
    "time = time.withColumn('departure_date_time', get_datetime(time['arrival_date']))\n",
    "time = time.withColumn('departure_year', year('departure_date_time'))\n",
    "time = time.withColumn('departure_month', month('departure_date_time'))\n",
    "time = time.withColumn('departure_day', dayofmonth('departure_date_time'))\n",
    "time = time.withColumn('departure_week', weekofyear('departure_date_time'))\n",
    "time = time.withColumn('departure_day_of_week', dayofweek('departure_date_time'))"
   ]
  },
  {
   "cell_type": "code",
   "execution_count": 29,
   "metadata": {
    "editable": true
   },
   "outputs": [
    {
     "name": "stdout",
     "output_type": "stream",
     "text": [
      "root\n",
      " |-- arrival_date: double (nullable = true)\n",
      " |-- departure_date: double (nullable = true)\n",
      " |-- arrival_date_time: string (nullable = true)\n",
      " |-- arrival_year: integer (nullable = true)\n",
      " |-- arrival_month: integer (nullable = true)\n",
      " |-- arrival_day: integer (nullable = true)\n",
      " |-- arrival_week: integer (nullable = true)\n",
      " |-- arrival_day_of_week: integer (nullable = true)\n",
      " |-- departure_date_time: string (nullable = true)\n",
      " |-- departure_year: integer (nullable = true)\n",
      " |-- departure_month: integer (nullable = true)\n",
      " |-- departure_day: integer (nullable = true)\n",
      " |-- departure_week: integer (nullable = true)\n",
      " |-- departure_day_of_week: integer (nullable = true)\n",
      "\n"
     ]
    }
   ],
   "source": [
    "time.printSchema()"
   ]
  },
  {
   "cell_type": "code",
   "execution_count": 30,
   "metadata": {
    "editable": true
   },
   "outputs": [],
   "source": [
    "partitions = ['arrival_year','arrival_month']\n",
    "\n",
    "time.write.parquet(\"time\", partitionBy=partitions, mode=\"overwrite\")"
   ]
  },
  {
   "cell_type": "markdown",
   "metadata": {
    "editable": true
   },
   "source": [
    "### Tweet_airline dimension table"
   ]
  },
  {
   "cell_type": "code",
   "execution_count": 99,
   "metadata": {
    "editable": true
   },
   "outputs": [],
   "source": [
    "from pyspark.sql.functions import when\n",
    "\n",
    "tweet_airline = tweet_airline.withColumn(\"positive_sentiment\", when(tweet_airline.airline_sentiment == \"positive\", 1).otherwise(0)).\\\n",
    "                                      withColumn(\"negative_sentiment\", when(tweet_airline.airline_sentiment == \"negative\", 1).otherwise(0)).\\\n",
    "                                      withColumn(\"neutral_sentiment\", when(tweet_airline.airline_sentiment == \"neutral\", 1).otherwise(0))      "
   ]
  },
  {
   "cell_type": "code",
   "execution_count": 100,
   "metadata": {
    "editable": true
   },
   "outputs": [
    {
     "name": "stdout",
     "output_type": "stream",
     "text": [
      "root\n",
      " |-- airline_ICAO_code: string (nullable = true)\n",
      " |-- airline_IATA_code: string (nullable = true)\n",
      " |-- airline_name: string (nullable = true)\n",
      " |-- positive_sentiment: integer (nullable = false)\n",
      " |-- negative_sentiment: integer (nullable = false)\n",
      " |-- neutral_sentiment: integer (nullable = false)\n",
      "\n"
     ]
    }
   ],
   "source": [
    "tweet_airline = tweet_airline.filter(\"'airline' is not null\").filter(\"'airline_sentiment' is not null\")\n",
    "\n",
    "tweet_airline = tweet_airline.select(col('ICAO').alias('airline_ICAO_code'),\\\n",
    "                               col('IATA').alias('airline_IATA_code'),\\\n",
    "                               col('airline').alias('airline_name'),\\\n",
    "                               col('positive_sentiment'),\\\n",
    "                               col('negative_sentiment'),\\\n",
    "                               col('neutral_sentiment'))     \n",
    "tweet_airline.printSchema()"
   ]
  },
  {
   "cell_type": "code",
   "execution_count": 103,
   "metadata": {
    "editable": true
   },
   "outputs": [],
   "source": [
    "tweet_airline = tweet_airline.groupby('airline_ICAO_code','airline_IATA_code','airline_name').sum()"
   ]
  },
  {
   "cell_type": "code",
   "execution_count": 106,
   "metadata": {
    "editable": true
   },
   "outputs": [
    {
     "name": "stdout",
     "output_type": "stream",
     "text": [
      "root\n",
      " |-- airline_ICAO_code: string (nullable = true)\n",
      " |-- airline_IATA_code: string (nullable = true)\n",
      " |-- airline_name: string (nullable = true)\n",
      " |-- sum(positive_sentiment): long (nullable = true)\n",
      " |-- sum(negative_sentiment): long (nullable = true)\n",
      " |-- sum(neutral_sentiment): long (nullable = true)\n",
      "\n"
     ]
    }
   ],
   "source": [
    "tweet_airline.printSchema()"
   ]
  },
  {
   "cell_type": "code",
   "execution_count": 108,
   "metadata": {
    "editable": true
   },
   "outputs": [],
   "source": [
    "tweet_airline = tweet_airline.withColumnRenamed(\"sum(positive_sentiment)\",\"positive_sentiment\").\\\n",
    "                              withColumnRenamed(\"sum(negative_sentiment)\",\"negative_sentiment\").\\\n",
    "                              withColumnRenamed(\"sum(neutral_sentiment)\",\"neutral_sentiment\")"
   ]
  },
  {
   "cell_type": "code",
   "execution_count": 109,
   "metadata": {
    "editable": true
   },
   "outputs": [
    {
     "name": "stdout",
     "output_type": "stream",
     "text": [
      "root\n",
      " |-- airline_ICAO_code: string (nullable = true)\n",
      " |-- airline_IATA_code: string (nullable = true)\n",
      " |-- airline_name: string (nullable = true)\n",
      " |-- positive_sentiment: long (nullable = true)\n",
      " |-- negative_sentiment: long (nullable = true)\n",
      " |-- neutral_sentiment: long (nullable = true)\n",
      "\n"
     ]
    }
   ],
   "source": [
    "tweet_airline.printSchema()"
   ]
  },
  {
   "cell_type": "code",
   "execution_count": 110,
   "metadata": {
    "editable": true
   },
   "outputs": [],
   "source": [
    "partitions = ['airline_name']\n",
    "\n",
    "tweet_airline.write.parquet(\"tweet_airline\", partitionBy=partitions, mode=\"overwrite\")"
   ]
  },
  {
   "cell_type": "markdown",
   "metadata": {
    "editable": true
   },
   "source": [
    "### Border_entry dimension table"
   ]
  },
  {
   "cell_type": "code",
   "execution_count": 107,
   "metadata": {
    "editable": true
   },
   "outputs": [
    {
     "name": "stdout",
     "output_type": "stream",
     "text": [
      "root\n",
      " |-- Port Name: string (nullable = true)\n",
      " |-- State: string (nullable = true)\n",
      " |-- Port Code: integer (nullable = true)\n",
      " |-- Border: string (nullable = true)\n",
      " |-- Date: string (nullable = true)\n",
      " |-- Measure: string (nullable = true)\n",
      " |-- Value: integer (nullable = true)\n",
      " |-- datetype_timestamp: timestamp (nullable = true)\n",
      "\n"
     ]
    }
   ],
   "source": [
    "border_entry.printSchema()"
   ]
  },
  {
   "cell_type": "code",
   "execution_count": 18,
   "metadata": {
    "editable": true
   },
   "outputs": [],
   "source": [
    "border_entry = border_entry.select(col('Port Code').alias('border_port_code'),\\\n",
    "                               col('Port Name').alias('border_port_code'),\\\n",
    "                               col('State').alias('border_state'),\\\n",
    "                               col('Border').alias('border'),\\\n",
    "                               col('datetype_timestamp').alias('border_entry_date'),\\\n",
    "                               col('Measure').alias('border_transportation_measure'),\\\n",
    "                               col('Value').alias('border_entry_number'))"
   ]
  },
  {
   "cell_type": "code",
   "execution_count": 109,
   "metadata": {
    "editable": true
   },
   "outputs": [],
   "source": [
    "partitions = ['border_port_code','border_port_code']\n",
    "\n",
    "border_entry.write.parquet(\"border_entry\", partitionBy=partitions, mode=\"overwrite\")"
   ]
  },
  {
   "cell_type": "markdown",
   "metadata": {
    "editable": true
   },
   "source": [
    "### Immigration fact table"
   ]
  },
  {
   "cell_type": "code",
   "execution_count": 27,
   "metadata": {
    "editable": true
   },
   "outputs": [
    {
     "name": "stdout",
     "output_type": "stream",
     "text": [
      "root\n",
      " |-- visit_id: double (nullable = true)\n",
      " |-- arrival_airline: string (nullable = true)\n",
      " |-- arrival_state: string (nullable = true)\n",
      " |-- arrival_airport: string (nullable = true)\n",
      " |-- visa_category: double (nullable = true)\n",
      " |-- visa_type: string (nullable = true)\n",
      " |-- origin_country: double (nullable = true)\n",
      " |-- residence_country: double (nullable = true)\n",
      " |-- gender: string (nullable = true)\n",
      " |-- age: double (nullable = true)\n",
      " |-- arrival_date: string (nullable = true)\n",
      " |-- airport_entry_count: integer (nullable = false)\n",
      "\n"
     ]
    }
   ],
   "source": [
    "immigration_fact = immigration_data.select(col('cicid').alias('visit_id'),\\\n",
    "                               col('airline').alias('arrival_airline'),\\\n",
    "                               col('arrdate').alias('arrival_date_original'),\\\n",
    "                               col('i94addr').alias('arrival_state'),\\\n",
    "                               col('i94port').alias('arrival_airport'),\\\n",
    "                               col('I94visa').alias('visa_category'),\\\n",
    "                               col('visatype').alias('visa_type'),\\\n",
    "                               col('i94cit').alias('origin_country'),\\\n",
    "                               col('i94res').alias('residence_country'),\\\n",
    "                               col('gender').alias('gender'),\\\n",
    "                               col('i94bir').alias('age'))\n",
    "\n",
    "get_datetime = udf(lambda x: (dt.datetime(1960, 1, 1).date() + dt.timedelta(x)).isoformat() if x else None)\n",
    "\n",
    "immigration_fact = immigration_fact.withColumn('arrival_date', get_datetime(immigration_fact['arrival_date_original']))\n",
    "\n",
    "immigration_fact = immigration_fact.drop('arrival_date_original')\n",
    "\n",
    "immigration_fact = immigration_fact.withColumn('airport_entry_count', lit(1))\n",
    "\n",
    "immigration_fact.printSchema()"
   ]
  },
  {
   "cell_type": "code",
   "execution_count": 26,
   "metadata": {
    "editable": true
   },
   "outputs": [
    {
     "data": {
      "text/html": [
       "<div>\n",
       "<style scoped>\n",
       "    .dataframe tbody tr th:only-of-type {\n",
       "        vertical-align: middle;\n",
       "    }\n",
       "\n",
       "    .dataframe tbody tr th {\n",
       "        vertical-align: top;\n",
       "    }\n",
       "\n",
       "    .dataframe thead th {\n",
       "        text-align: right;\n",
       "    }\n",
       "</style>\n",
       "<table border=\"1\" class=\"dataframe\">\n",
       "  <thead>\n",
       "    <tr style=\"text-align: right;\">\n",
       "      <th></th>\n",
       "      <th>visit_id</th>\n",
       "      <th>arrival_airline</th>\n",
       "      <th>arrival_state</th>\n",
       "      <th>arrival_airport</th>\n",
       "      <th>visa_category</th>\n",
       "      <th>visa_type</th>\n",
       "      <th>origin_country</th>\n",
       "      <th>residence_country</th>\n",
       "      <th>gender</th>\n",
       "      <th>age</th>\n",
       "      <th>arrival_date</th>\n",
       "      <th>count</th>\n",
       "    </tr>\n",
       "  </thead>\n",
       "  <tbody>\n",
       "    <tr>\n",
       "      <th>0</th>\n",
       "      <td>299.0</td>\n",
       "      <td>OS</td>\n",
       "      <td>NY</td>\n",
       "      <td>NYC</td>\n",
       "      <td>2.0</td>\n",
       "      <td>WT</td>\n",
       "      <td>103.0</td>\n",
       "      <td>103.0</td>\n",
       "      <td>None</td>\n",
       "      <td>54.0</td>\n",
       "      <td>2016-04-01</td>\n",
       "      <td>1</td>\n",
       "    </tr>\n",
       "    <tr>\n",
       "      <th>1</th>\n",
       "      <td>305.0</td>\n",
       "      <td>OS</td>\n",
       "      <td>NY</td>\n",
       "      <td>NYC</td>\n",
       "      <td>2.0</td>\n",
       "      <td>WT</td>\n",
       "      <td>103.0</td>\n",
       "      <td>103.0</td>\n",
       "      <td>None</td>\n",
       "      <td>63.0</td>\n",
       "      <td>2016-04-01</td>\n",
       "      <td>1</td>\n",
       "    </tr>\n",
       "    <tr>\n",
       "      <th>2</th>\n",
       "      <td>496.0</td>\n",
       "      <td>OS</td>\n",
       "      <td>IL</td>\n",
       "      <td>CHI</td>\n",
       "      <td>1.0</td>\n",
       "      <td>WB</td>\n",
       "      <td>103.0</td>\n",
       "      <td>103.0</td>\n",
       "      <td>None</td>\n",
       "      <td>64.0</td>\n",
       "      <td>2016-04-01</td>\n",
       "      <td>1</td>\n",
       "    </tr>\n",
       "    <tr>\n",
       "      <th>3</th>\n",
       "      <td>558.0</td>\n",
       "      <td>LH</td>\n",
       "      <td>CA</td>\n",
       "      <td>SFR</td>\n",
       "      <td>1.0</td>\n",
       "      <td>WB</td>\n",
       "      <td>103.0</td>\n",
       "      <td>103.0</td>\n",
       "      <td>M</td>\n",
       "      <td>42.0</td>\n",
       "      <td>2016-04-01</td>\n",
       "      <td>1</td>\n",
       "    </tr>\n",
       "    <tr>\n",
       "      <th>4</th>\n",
       "      <td>596.0</td>\n",
       "      <td>UP</td>\n",
       "      <td>FL</td>\n",
       "      <td>NAS</td>\n",
       "      <td>2.0</td>\n",
       "      <td>WT</td>\n",
       "      <td>103.0</td>\n",
       "      <td>103.0</td>\n",
       "      <td>M</td>\n",
       "      <td>24.0</td>\n",
       "      <td>2016-04-01</td>\n",
       "      <td>1</td>\n",
       "    </tr>\n",
       "  </tbody>\n",
       "</table>\n",
       "</div>"
      ],
      "text/plain": [
       "   visit_id arrival_airline arrival_state arrival_airport  visa_category  \\\n",
       "0     299.0              OS            NY             NYC            2.0   \n",
       "1     305.0              OS            NY             NYC            2.0   \n",
       "2     496.0              OS            IL             CHI            1.0   \n",
       "3     558.0              LH            CA             SFR            1.0   \n",
       "4     596.0              UP            FL             NAS            2.0   \n",
       "\n",
       "  visa_type  origin_country  residence_country gender   age arrival_date  \\\n",
       "0        WT           103.0              103.0   None  54.0   2016-04-01   \n",
       "1        WT           103.0              103.0   None  63.0   2016-04-01   \n",
       "2        WB           103.0              103.0   None  64.0   2016-04-01   \n",
       "3        WB           103.0              103.0      M  42.0   2016-04-01   \n",
       "4        WT           103.0              103.0      M  24.0   2016-04-01   \n",
       "\n",
       "   count  \n",
       "0      1  \n",
       "1      1  \n",
       "2      1  \n",
       "3      1  \n",
       "4      1  "
      ]
     },
     "execution_count": 26,
     "metadata": {},
     "output_type": "execute_result"
    }
   ],
   "source": [
    "immigration_fact.limit(5).toPandas()"
   ]
  },
  {
   "cell_type": "code",
   "execution_count": null,
   "metadata": {
    "editable": true
   },
   "outputs": [],
   "source": [
    "partitions = ['arrival_date']\n",
    "\n",
    "border_entry.write.parquet(\"immigration_fact\", partitionBy=partitions, mode=\"overwrite\")"
   ]
  },
  {
   "cell_type": "markdown",
   "metadata": {
    "editable": true
   },
   "source": [
    "#### 4.2 Data Quality Checks\n",
    "Explain the data quality checks you'll perform to ensure the pipeline ran as expected. These could include:\n",
    " * Integrity constraints on the relational database (e.g., unique key, data type, etc.)\n",
    " * Unit tests for the scripts to ensure they are doing the right thing\n",
    " * Source/Count checks to ensure completeness\n",
    " \n",
    "Run Quality Checks"
   ]
  },
  {
   "cell_type": "code",
   "execution_count": 111,
   "metadata": {
    "editable": true
   },
   "outputs": [
    {
     "name": "stdout",
     "output_type": "stream",
     "text": [
      "Data quality on table immigration_fact_table check passed with 3096313 records\n",
      "Data quality on table visit_dimension_table check passed with 3096313 records\n",
      "Data quality on table time_dimension_table check passed with 3096313 records\n",
      "Data quality on table tweet_airline_dimension_table check passed with 6 records\n",
      "Data quality on table border_entry_dimension_Table check passed with 355511 records\n"
     ]
    }
   ],
   "source": [
    "# Perform quality checks here\n",
    "# Source/Count checks to ensure completeness\n",
    "def completeness_check(df, table_names):\n",
    "    \n",
    "    total_count = df.count()\n",
    "\n",
    "    if total_count == 0:\n",
    "        print(f\"Data quality check failed. {table_names} contained 0 rows\")\n",
    "    else:\n",
    "        print(f\"Data quality on table {table_names} check passed with {df.count()} records\")\n",
    "    return 0\n",
    "\n",
    "#create a dictionary for the tables\n",
    "table_names = {\n",
    "    'immigration_fact_table': immigration_fact,\n",
    "    'visit_dimension_table': visit,\n",
    "    'time_dimension_table': time,\n",
    "    'tweet_airline_dimension_table': tweet_airline,\n",
    "    'border_entry_dimension_Table': border_entry\n",
    "}\n",
    "\n",
    "for table_names, df in table_names.items():\n",
    "    completeness_check(df, table_names)\n",
    "                                "
   ]
  },
  {
   "cell_type": "markdown",
   "metadata": {
    "editable": true
   },
   "source": [
    "#### 4.3 Data dictionary \n",
    "Create a data dictionary for your data model. For each field, provide a brief description of what the data is and where it came from. You can include the data dictionary in the notebook or in a separate file."
   ]
  },
  {
   "cell_type": "markdown",
   "metadata": {
    "editable": true
   },
   "source": [
    "### Visits dimension table\n",
    "\n",
    "| **Data Point** | **Explanation** |\n",
    "| --- | --- | \n",
    "|visit_id | Unique ID of visit |\n",
    "|origin_country|Countries where the visitors come grom\n",
    "|residence_country|Countries where the visitors live in\n",
    "|gender|gender of visitors\n",
    "|age|age of visitors\n",
    "|arrival_airport|airport where visitors arrive\n",
    "|arrival_state|state of US where visitors arrive\n",
    "|transportation_mode|tranporation mode : 1 = 'Air', 2 ='Sea', 3='Land', 9='Not reported'.\n",
    "|visa_category|visa categories:1 = Business , 2 = Pleasure, 3 = Student\n",
    "|visa_type|Class of admission legally admitting the non-immigrant to temporarily stay in U.S.\n",
    "|arrival_airline|airline code with which visitors come to US\n",
    "|flight_number|flight number of airline\n",
    "\n",
    "\n",
    "### Time dimension table\n",
    "\n",
    "| **Data Point** | **Explanation** |\n",
    "| --- | --- | \n",
    "|arrival_date\t|Date when visitors arrive in US\n",
    "|arrival_year\t|Year when visitors arrive in US\n",
    "|arrival_month\t|Month when visitors arrive in US\n",
    "|arrival_day\t|Day when visitors arrive in US\n",
    "|arrival_week\t|Week when visitors arrive in US\n",
    "|arrival_day_of_week\t|Week when visitors arrive in US\n",
    "|departure_date|\tDate when visitors depare in US\n",
    "|departure_year\t|Year when visitors depare in US\n",
    "|departure_month\t|Month when visitors depare in US\n",
    "|departure_day\t|Day when visitors depare in US\n",
    "|departure_week\t|Week when visitors depare in US\n",
    "|departure_day_of_week\t|Week when visitors depare in US\n",
    "\n",
    "\n",
    "### Tweet airline dimension table\n",
    "\n",
    "| **Data Point** | **Explanation** |\n",
    "| --- | --- | \n",
    "|airline_ICAO_code\t|Airline ICAO code which showed in tweets\n",
    "|airline_IATA_code\t|Airline IATA code which showed in tweets\n",
    "|airline_name\t|airline name which tweets comment on\n",
    "|positive_sentiment\t|number of positive comments on the airline\n",
    "|negative_sentiment\t|number of negative comments on the airline\n",
    "|neutral_sentiment\t|number of neutral comments on the airline\n",
    "\n",
    "\n",
    "### Border entry dimension table\n",
    "\n",
    "| **Data Point** | **Explanation** |\n",
    "| --- | --- | \n",
    "|border_state (Primary Key)\t|US state where has immigrant border\n",
    "|border_port_code\t|code of the border\n",
    "|border_port_name\t|name of the border\n",
    "|border\t|border: US-Mexico, US-Canada\n",
    "|border_entry_date\t|date of immigrant enter the border\n",
    "|border_transportation_measure\t|transportation measure  with which immigrant enter border\n",
    "\n",
    "\n",
    "### Immigrant fact table\n",
    "\n",
    "| **Data Point** | **Explanation** |\n",
    "| --- | --- |\n",
    "|visit_id (PK)\t|identifier of visits\n",
    "|arrival_airline (FK)\t|airline (code) with which visitor arrive in US\n",
    "|arrival_date (FK)\t|date when visitors arrive in US\n",
    "|arrival_state (FK)\t|US state where visitors arrive\n",
    "|airport_entry_count\t|entry count: 1\n",
    "|arrival_airport\t|airport where visitors arrive in US\n",
    "|visa_category\t|visa categories:1 = Business , 2 = Pleasure, 3 = Student\n",
    "|visa_type\t |Class of admission legally admitting the non-immigrant to temporarily stay in U.S.\n",
    "|origin_country\t|Countries where the visitors come grom\n",
    "|residence_country\t|Countries where the visitors live in\n",
    "|gender\t|gender of visitors\n",
    "|age\t|age of visitors\n",
    "\n"
   ]
  },
  {
   "cell_type": "markdown",
   "metadata": {
    "editable": true
   },
   "source": [
    "#### Step 5: Complete Project Write Up\n",
    "* Clearly state the rationale for the choice of tools and technologies for the project.\n",
    "\n",
    "The tool I used in this project is Spark. Because Spark can easily handle large dataset while it will also allow us the manage and run the dataset in local computer. While Spark also gives the flexibility to manage the dataset in Cloud by using AWS EMR.\n",
    "\n",
    "* Propose how often the data should be updated and why.\n",
    "\n",
    "Ideally the data should be updated daily since every day there will be new visits and immigrant information be stored in the system. Since the data is partitioned by arrival date, so it will stored in small chunks.\n",
    "\n",
    "* Write a description of how you would approach the problem differently under the following scenarios:\n",
    " * The data was increased by 100x.\n",
    " \n",
    " I would suggest to add more nodes or transfer the data completely to AWS cloud, it can be managed there, then it won't occupy space in your PC.\n",
    " \n",
    " * The data populates a dashboard that must be updated on a daily basis by 7am every day.\n",
    " \n",
    " I think either in local PC or AWS, we can schedule to run the dashboard at 7am every day without problem.\n",
    " \n",
    " * The database needed to be accessed by 100+ people.\n",
    " Give people access to read the data in AWS S3 bucket. "
   ]
  },
  {
   "cell_type": "code",
   "execution_count": null,
   "metadata": {
    "editable": true
   },
   "outputs": [],
   "source": []
  },
  {
   "cell_type": "code",
   "execution_count": null,
   "metadata": {
    "editable": true
   },
   "outputs": [],
   "source": []
  },
  {
   "cell_type": "code",
   "execution_count": null,
   "metadata": {
    "editable": true
   },
   "outputs": [],
   "source": []
  },
  {
   "cell_type": "code",
   "execution_count": null,
   "metadata": {
    "editable": true
   },
   "outputs": [],
   "source": []
  },
  {
   "cell_type": "code",
   "execution_count": null,
   "metadata": {
    "editable": true
   },
   "outputs": [],
   "source": []
  },
  {
   "cell_type": "code",
   "execution_count": null,
   "metadata": {
    "editable": true
   },
   "outputs": [],
   "source": []
  }
 ],
 "metadata": {
  "kernelspec": {
   "display_name": "Python 3",
   "language": "python",
   "name": "python3"
  },
  "language_info": {
   "codemirror_mode": {
    "name": "ipython",
    "version": 3
   },
   "file_extension": ".py",
   "mimetype": "text/x-python",
   "name": "python",
   "nbconvert_exporter": "python",
   "pygments_lexer": "ipython3",
   "version": "3.6.3"
  }
 },
 "nbformat": 4,
 "nbformat_minor": 4
}
